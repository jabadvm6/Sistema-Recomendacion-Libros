{
 "cells": [
  {
   "cell_type": "code",
   "execution_count": 10,
   "metadata": {},
   "outputs": [],
   "source": [
    "#IMPORTS\n",
    "\n",
    "import pandas as pd\n",
    "import numpy as np\n",
    "\n",
    "from selenium import webdriver\n",
    "from selenium.webdriver.common.by import By\n",
    "from selenium.webdriver.common.keys import Keys\n",
    "from selenium.webdriver.common.action_chains import ActionChains\n",
    "from selenium.common.exceptions import NoSuchElementException\n",
    "\n",
    "import requests\n",
    "from bs4 import BeautifulSoup\n",
    "import time"
   ]
  },
  {
   "cell_type": "code",
   "execution_count": 11,
   "metadata": {},
   "outputs": [
    {
     "name": "stderr",
     "output_type": "stream",
     "text": [
      "/var/folders/6g/zn0bw_6s1ws2qwbb44k4ppkw0000gn/T/ipykernel_20429/2390757508.py:7: DeprecationWarning: executable_path has been deprecated, please pass in a Service object\n",
      "  driver = webdriver.Chrome(PATH)\n"
     ]
    }
   ],
   "source": [
    "df = pd.DataFrame(columns=['href_list']) # creates master dataframe \n",
    "\n",
    "# Chromedriver Path\n",
    "PATH = \"/Users/javm/Desktop/chromedriver_mac_arm64/chromedriver\"\n",
    "\n",
    "# this creates/opens Chrome browser\n",
    "driver = webdriver.Chrome(PATH)\n",
    "\n",
    "#creating list of href\n",
    "href_list = []\n",
    "\n",
    "for listings in range(21,36):\n",
    "    page_num = str(listings)\n",
    "    url = 'https://www.barnesandnoble.com/b/books/_/N-1z13w9sZ1sZ29Z8q8?Nrpp=20&page=' + page_num\n",
    "    driver.get(url)\n",
    "    # freeze/halt python so url loads completely\n",
    "    driver.implicitly_wait(60)\n",
    "    \n",
    "    #find hrefs\n",
    "    div_elements = driver.find_elements(By.CSS_SELECTOR, \"div.product-shelf-title.product-info-title.pt-xs\")\n",
    "    for div_element in div_elements:\n",
    "        elements = div_element.find_elements(By.TAG_NAME, \"a\")\n",
    "        for element in elements:\n",
    "            href = element.get_attribute('href')\n",
    "            href_list.append(href)\n",
    "\n",
    "    urls_df = pd.DataFrame(href_list, columns=['href_list']) # creates master dataframe\n",
    "    df = pd.concat([df, urls_df], ignore_index=True)\n",
    "    \n",
    "driver.close()\n"
   ]
  },
  {
   "cell_type": "code",
   "execution_count": 12,
   "metadata": {},
   "outputs": [
    {
     "data": {
      "text/plain": [
       "300"
      ]
     },
     "execution_count": 12,
     "metadata": {},
     "output_type": "execute_result"
    }
   ],
   "source": [
    "len(href_list)"
   ]
  },
  {
   "cell_type": "code",
   "execution_count": 13,
   "metadata": {},
   "outputs": [
    {
     "name": "stderr",
     "output_type": "stream",
     "text": [
      "/var/folders/6g/zn0bw_6s1ws2qwbb44k4ppkw0000gn/T/ipykernel_20429/2600020984.py:5: DeprecationWarning: executable_path has been deprecated, please pass in a Service object\n",
      "  driver = webdriver.Chrome(PATH)\n"
     ]
    }
   ],
   "source": [
    "# Chromedriver Path\n",
    "PATH = \"/Users/javm/Desktop/chromedriver_mac_arm64/chromedriver\"\n",
    "\n",
    "# this creates/opens Chrome browser\n",
    "driver = webdriver.Chrome(PATH)\n",
    "\n",
    "book_details = []\n",
    "\n",
    "for index, href in enumerate(href_list):\n",
    "    driver.get(href)\n",
    "    driver.implicitly_wait(60)\n",
    "\n",
    "    # find titles\n",
    "    titles = driver.find_elements(By.TAG_NAME, 'h1')\n",
    "    title_list = []\n",
    "    for t in range(len(titles)):\n",
    "        title_list.append(titles[t].text)\n",
    "\n",
    "    if not title_list:\n",
    "        continue\n",
    "\n",
    "    # find author\n",
    "    author_list = []\n",
    "    try:\n",
    "        author_elems = driver.find_elements(By.CSS_SELECTOR, '.contributors.pdp-book-author a')\n",
    "        for author_elem in author_elems:\n",
    "            author_list.append(author_elem.text)\n",
    "    except NoSuchElementException:\n",
    "        author_list = [np.nan]\n",
    "\n",
    "    # find publisher\n",
    "    try:\n",
    "        publisher_span = driver.find_element(By.CSS_SELECTOR, 'span[itemprop=\"publisher\"]')\n",
    "        publisher = publisher_span.text\n",
    "    except NoSuchElementException:\n",
    "        publisher = np.nan\n",
    "\n",
    "    # find blurb\n",
    "    try:\n",
    "        parent_div = driver.find_element(By.XPATH, '//*[@id=\"overviewSection\"]')\n",
    "        blurb_text = parent_div.text\n",
    "    except NoSuchElementException:\n",
    "        blurb_text = np.nan\n",
    "    \n",
    "    book = [title_list[1] if len(title_list) > 1 else title_list[0], author_list, publisher, blurb_text]\n",
    "    book_details.append(book)\n",
    "\n",
    "driver.quit()\n",
    "\n",
    "BOOK_DF_2 = pd.DataFrame(book_details, columns=['title', 'authors', 'publisher', 'blurb'])\n",
    "\n"
   ]
  },
  {
   "cell_type": "code",
   "execution_count": 14,
   "metadata": {},
   "outputs": [
    {
     "name": "stdout",
     "output_type": "stream",
     "text": [
      "<class 'pandas.core.frame.DataFrame'>\n",
      "RangeIndex: 300 entries, 0 to 299\n",
      "Data columns (total 4 columns):\n",
      " #   Column     Non-Null Count  Dtype \n",
      "---  ------     --------------  ----- \n",
      " 0   title      300 non-null    object\n",
      " 1   authors    300 non-null    object\n",
      " 2   publisher  300 non-null    object\n",
      " 3   blurb      299 non-null    object\n",
      "dtypes: object(4)\n",
      "memory usage: 9.5+ KB\n"
     ]
    }
   ],
   "source": [
    "BOOK_DF_2.info()"
   ]
  },
  {
   "cell_type": "code",
   "execution_count": 15,
   "metadata": {},
   "outputs": [],
   "source": [
    "BOOK_DF_2.to_csv('books_2.csv', index = False)"
   ]
  },
  {
   "cell_type": "code",
   "execution_count": 16,
   "metadata": {},
   "outputs": [
    {
     "data": {
      "text/html": [
       "<div>\n",
       "<style scoped>\n",
       "    .dataframe tbody tr th:only-of-type {\n",
       "        vertical-align: middle;\n",
       "    }\n",
       "\n",
       "    .dataframe tbody tr th {\n",
       "        vertical-align: top;\n",
       "    }\n",
       "\n",
       "    .dataframe thead th {\n",
       "        text-align: right;\n",
       "    }\n",
       "</style>\n",
       "<table border=\"1\" class=\"dataframe\">\n",
       "  <thead>\n",
       "    <tr style=\"text-align: right;\">\n",
       "      <th></th>\n",
       "      <th>title</th>\n",
       "      <th>authors</th>\n",
       "      <th>publisher</th>\n",
       "      <th>blurb</th>\n",
       "    </tr>\n",
       "  </thead>\n",
       "  <tbody>\n",
       "    <tr>\n",
       "      <th>0</th>\n",
       "      <td>Familias de la A a la Z / Families from A to Z</td>\n",
       "      <td>[, Raquel Díaz Reguera]</td>\n",
       "      <td>PRH Grupo Editorial</td>\n",
       "      <td>Overview\\nCada familia es un mundo… y el mundo...</td>\n",
       "    </tr>\n",
       "    <tr>\n",
       "      <th>1</th>\n",
       "      <td>El ladrón de rostros (Inspectora Ane Cestero 3)</td>\n",
       "      <td>[, Ibon Martín]</td>\n",
       "      <td>Penguin Random House Grupo Editorial España</td>\n",
       "      <td>Overview\\nRegresa Ibon Martín. Regresa el mejo...</td>\n",
       "    </tr>\n",
       "    <tr>\n",
       "      <th>2</th>\n",
       "      <td>Un Día Con Grace</td>\n",
       "      <td>[, Samantha Melendez]</td>\n",
       "      <td>Barnes &amp; Noble Press</td>\n",
       "      <td>Overview\\nUna historia divertida sigue a una n...</td>\n",
       "    </tr>\n",
       "    <tr>\n",
       "      <th>3</th>\n",
       "      <td>Aventuras en la bañera de Andrés el bebé y Mic...</td>\n",
       "      <td>[, , , Tom Haydon, Annika Haydon, Magdalena Za...</td>\n",
       "      <td>TomAnni Publishing</td>\n",
       "      <td>Overview\\nEstos son Andrés y Mickey, el duo má...</td>\n",
       "    </tr>\n",
       "    <tr>\n",
       "      <th>4</th>\n",
       "      <td>Reina Valera Revisada Biblia de Referencia Tho...</td>\n",
       "      <td>[, , , Charles Thompson, Reina Valera Revisada...</td>\n",
       "      <td>Vida</td>\n",
       "      <td>Overview\\nUna herramienta fácil de utilizar pa...</td>\n",
       "    </tr>\n",
       "    <tr>\n",
       "      <th>...</th>\n",
       "      <td>...</td>\n",
       "      <td>...</td>\n",
       "      <td>...</td>\n",
       "      <td>...</td>\n",
       "    </tr>\n",
       "    <tr>\n",
       "      <th>295</th>\n",
       "      <td>El cisne de chatarra: la limpieza de un río</td>\n",
       "      <td>[, , Joanne Linden, Estrellita Caracol (Illust...</td>\n",
       "      <td>Barefoot Books</td>\n",
       "      <td>Overview\\nWhen community members work together...</td>\n",
       "    </tr>\n",
       "    <tr>\n",
       "      <th>296</th>\n",
       "      <td>Reina Valera Revisada, Biblia de Referencia Th...</td>\n",
       "      <td>[, , , Charles Thompson, Reina Valera Revisada...</td>\n",
       "      <td>Vida</td>\n",
       "      <td>Overview\\nUna herramienta fácil de utilizar pa...</td>\n",
       "    </tr>\n",
       "    <tr>\n",
       "      <th>297</th>\n",
       "      <td>Tragicomedia Mexicana 1: La vida en México de ...</td>\n",
       "      <td>[, José Agustín]</td>\n",
       "      <td>PRH Grupo Editorial</td>\n",
       "      <td>Overview\\nLa radiografía de un país hecha por ...</td>\n",
       "    </tr>\n",
       "    <tr>\n",
       "      <th>298</th>\n",
       "      <td>Frida McMoon y los aprendices del tiempo / Fri...</td>\n",
       "      <td>[, , Pedro Mañas, Laia Ferraté (Illustrator)]</td>\n",
       "      <td>PRH Grupo Editorial</td>\n",
       "      <td>Overview\\nUna aventura de la heroína más espec...</td>\n",
       "    </tr>\n",
       "    <tr>\n",
       "      <th>299</th>\n",
       "      <td>Geniales</td>\n",
       "      <td>[, Fernando Alberca de Castro]</td>\n",
       "      <td>Editorial Almuzara</td>\n",
       "      <td>Overview\\nLa genialidad y la sensibilidad está...</td>\n",
       "    </tr>\n",
       "  </tbody>\n",
       "</table>\n",
       "<p>300 rows × 4 columns</p>\n",
       "</div>"
      ],
      "text/plain": [
       "                                                 title  \\\n",
       "0       Familias de la A a la Z / Families from A to Z   \n",
       "1      El ladrón de rostros (Inspectora Ane Cestero 3)   \n",
       "2                                     Un Día Con Grace   \n",
       "3    Aventuras en la bañera de Andrés el bebé y Mic...   \n",
       "4    Reina Valera Revisada Biblia de Referencia Tho...   \n",
       "..                                                 ...   \n",
       "295        El cisne de chatarra: la limpieza de un río   \n",
       "296  Reina Valera Revisada, Biblia de Referencia Th...   \n",
       "297  Tragicomedia Mexicana 1: La vida en México de ...   \n",
       "298  Frida McMoon y los aprendices del tiempo / Fri...   \n",
       "299                                           Geniales   \n",
       "\n",
       "                                               authors  \\\n",
       "0                              [, Raquel Díaz Reguera]   \n",
       "1                                      [, Ibon Martín]   \n",
       "2                                [, Samantha Melendez]   \n",
       "3    [, , , Tom Haydon, Annika Haydon, Magdalena Za...   \n",
       "4    [, , , Charles Thompson, Reina Valera Revisada...   \n",
       "..                                                 ...   \n",
       "295  [, , Joanne Linden, Estrellita Caracol (Illust...   \n",
       "296  [, , , Charles Thompson, Reina Valera Revisada...   \n",
       "297                                   [, José Agustín]   \n",
       "298      [, , Pedro Mañas, Laia Ferraté (Illustrator)]   \n",
       "299                     [, Fernando Alberca de Castro]   \n",
       "\n",
       "                                       publisher  \\\n",
       "0                            PRH Grupo Editorial   \n",
       "1    Penguin Random House Grupo Editorial España   \n",
       "2                           Barnes & Noble Press   \n",
       "3                             TomAnni Publishing   \n",
       "4                                           Vida   \n",
       "..                                           ...   \n",
       "295                               Barefoot Books   \n",
       "296                                         Vida   \n",
       "297                          PRH Grupo Editorial   \n",
       "298                          PRH Grupo Editorial   \n",
       "299                           Editorial Almuzara   \n",
       "\n",
       "                                                 blurb  \n",
       "0    Overview\\nCada familia es un mundo… y el mundo...  \n",
       "1    Overview\\nRegresa Ibon Martín. Regresa el mejo...  \n",
       "2    Overview\\nUna historia divertida sigue a una n...  \n",
       "3    Overview\\nEstos son Andrés y Mickey, el duo má...  \n",
       "4    Overview\\nUna herramienta fácil de utilizar pa...  \n",
       "..                                                 ...  \n",
       "295  Overview\\nWhen community members work together...  \n",
       "296  Overview\\nUna herramienta fácil de utilizar pa...  \n",
       "297  Overview\\nLa radiografía de un país hecha por ...  \n",
       "298  Overview\\nUna aventura de la heroína más espec...  \n",
       "299  Overview\\nLa genialidad y la sensibilidad está...  \n",
       "\n",
       "[300 rows x 4 columns]"
      ]
     },
     "execution_count": 16,
     "metadata": {},
     "output_type": "execute_result"
    }
   ],
   "source": [
    "BOOK_DF_2"
   ]
  },
  {
   "cell_type": "code",
   "execution_count": null,
   "metadata": {},
   "outputs": [],
   "source": []
  }
 ],
 "metadata": {
  "kernelspec": {
   "display_name": "Python 3.8.15 ('tf-env')",
   "language": "python",
   "name": "python3"
  },
  "language_info": {
   "codemirror_mode": {
    "name": "ipython",
    "version": 3
   },
   "file_extension": ".py",
   "mimetype": "text/x-python",
   "name": "python",
   "nbconvert_exporter": "python",
   "pygments_lexer": "ipython3",
   "version": "3.8.15"
  },
  "orig_nbformat": 4,
  "vscode": {
   "interpreter": {
    "hash": "a519badb918331f0d8c64ed18a42c37ad23f1f7898e2293b12d9d4e1cd8409d0"
   }
  }
 },
 "nbformat": 4,
 "nbformat_minor": 2
}
