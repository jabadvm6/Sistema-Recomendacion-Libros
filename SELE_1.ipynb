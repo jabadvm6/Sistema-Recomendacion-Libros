{
 "cells": [
  {
   "cell_type": "code",
   "execution_count": 1,
   "metadata": {},
   "outputs": [],
   "source": [
    "#IMPORTS\n",
    "\n",
    "import pandas as pd\n",
    "import numpy as np\n",
    "\n",
    "from selenium import webdriver\n",
    "from selenium.webdriver.common.by import By\n",
    "from selenium.webdriver.common.keys import Keys\n",
    "from selenium.webdriver.common.action_chains import ActionChains\n",
    "from selenium.common.exceptions import NoSuchElementException\n",
    "\n",
    "import requests\n",
    "from bs4 import BeautifulSoup\n",
    "import time"
   ]
  },
  {
   "cell_type": "code",
   "execution_count": 2,
   "metadata": {},
   "outputs": [
    {
     "name": "stderr",
     "output_type": "stream",
     "text": [
      "/var/folders/6g/zn0bw_6s1ws2qwbb44k4ppkw0000gn/T/ipykernel_19295/3821222310.py:7: DeprecationWarning: executable_path has been deprecated, please pass in a Service object\n",
      "  driver = webdriver.Chrome(PATH)\n"
     ]
    }
   ],
   "source": [
    "df = pd.DataFrame(columns=['href_list']) # creates master dataframe \n",
    "\n",
    "# Chromedriver Path\n",
    "PATH = \"/Users/javm/Desktop/chromedriver_mac_arm64/chromedriver\"\n",
    "\n",
    "# this creates/opens Chrome browser\n",
    "driver = webdriver.Chrome(PATH)\n",
    "\n",
    "#creating list of href\n",
    "href_list = []\n",
    "\n",
    "for listings in range(1,20):\n",
    "    page_num = str(listings)\n",
    "    url = 'https://www.barnesandnoble.com/b/books/_/N-1z13w9sZ1sZ29Z8q8?Nrpp=20&page=' + page_num\n",
    "    driver.get(url)\n",
    "    # freeze/halt python so url loads completely\n",
    "    driver.implicitly_wait(60)\n",
    "    \n",
    "    #find hrefs\n",
    "    div_elements = driver.find_elements(By.CSS_SELECTOR, \"div.product-shelf-title.product-info-title.pt-xs\")\n",
    "    for div_element in div_elements:\n",
    "        elements = div_element.find_elements(By.TAG_NAME, \"a\")\n",
    "        for element in elements:\n",
    "            href = element.get_attribute('href')\n",
    "            href_list.append(href)\n",
    "\n",
    "    urls_df = pd.DataFrame(href_list, columns=['href_list']) # creates master dataframe\n",
    "    df = pd.concat([df, urls_df], ignore_index=True)\n",
    "    \n",
    "driver.close()\n"
   ]
  },
  {
   "cell_type": "code",
   "execution_count": 3,
   "metadata": {},
   "outputs": [
    {
     "data": {
      "text/plain": [
       "380"
      ]
     },
     "execution_count": 3,
     "metadata": {},
     "output_type": "execute_result"
    }
   ],
   "source": [
    "len(href_list)"
   ]
  },
  {
   "cell_type": "code",
   "execution_count": 4,
   "metadata": {},
   "outputs": [
    {
     "name": "stderr",
     "output_type": "stream",
     "text": [
      "/var/folders/6g/zn0bw_6s1ws2qwbb44k4ppkw0000gn/T/ipykernel_19295/1683694768.py:5: DeprecationWarning: executable_path has been deprecated, please pass in a Service object\n",
      "  driver = webdriver.Chrome(PATH)\n"
     ]
    }
   ],
   "source": [
    "# Chromedriver Path\n",
    "PATH = \"/Users/javm/Desktop/chromedriver_mac_arm64/chromedriver\"\n",
    "\n",
    "# this creates/opens Chrome browser\n",
    "driver = webdriver.Chrome(PATH)\n",
    "\n",
    "book_details = []\n",
    "\n",
    "for index, href in enumerate(href_list):\n",
    "    driver.get(href)\n",
    "    driver.implicitly_wait(60)\n",
    "\n",
    "    # find titles\n",
    "    titles = driver.find_elements(By.TAG_NAME, 'h1')\n",
    "    title_list = []\n",
    "    for t in range(len(titles)):\n",
    "        title_list.append(titles[t].text)\n",
    "\n",
    "    if not title_list:\n",
    "        continue\n",
    "\n",
    "    # find author\n",
    "    author_list = []\n",
    "    try:\n",
    "        author_elems = driver.find_elements(By.CSS_SELECTOR, '.contributors.pdp-book-author a')\n",
    "        for author_elem in author_elems:\n",
    "            author_list.append(author_elem.text)\n",
    "    except NoSuchElementException:\n",
    "        author_list = [np.nan]\n",
    "\n",
    "    # find publisher\n",
    "    try:\n",
    "        publisher_span = driver.find_element(By.CSS_SELECTOR, 'span[itemprop=\"publisher\"]')\n",
    "        publisher = publisher_span.text\n",
    "    except NoSuchElementException:\n",
    "        publisher = np.nan\n",
    "\n",
    "    # find blurb\n",
    "    try:\n",
    "        parent_div = driver.find_element(By.XPATH, '//*[@id=\"overviewSection\"]')\n",
    "        blurb_text = parent_div.text\n",
    "    except NoSuchElementException:\n",
    "        blurb_text = np.nan\n",
    "    \n",
    "    book = [title_list[1] if len(title_list) > 1 else title_list[0], author_list, publisher, blurb_text]\n",
    "    book_details.append(book)\n",
    "\n",
    "driver.quit()\n",
    "\n",
    "BOOK_DF_1 = pd.DataFrame(book_details, columns=['title', 'authors', 'publisher', 'blurb'])\n",
    "\n"
   ]
  },
  {
   "cell_type": "code",
   "execution_count": 6,
   "metadata": {},
   "outputs": [
    {
     "name": "stdout",
     "output_type": "stream",
     "text": [
      "<class 'pandas.core.frame.DataFrame'>\n",
      "RangeIndex: 380 entries, 0 to 379\n",
      "Data columns (total 4 columns):\n",
      " #   Column     Non-Null Count  Dtype \n",
      "---  ------     --------------  ----- \n",
      " 0   title      380 non-null    object\n",
      " 1   authors    380 non-null    object\n",
      " 2   publisher  380 non-null    object\n",
      " 3   blurb      377 non-null    object\n",
      "dtypes: object(4)\n",
      "memory usage: 12.0+ KB\n"
     ]
    }
   ],
   "source": [
    "BOOK_DF_1.info()"
   ]
  },
  {
   "cell_type": "code",
   "execution_count": 7,
   "metadata": {},
   "outputs": [],
   "source": [
    "BOOK_DF_1.to_csv('books_1', index = False)"
   ]
  },
  {
   "cell_type": "code",
   "execution_count": null,
   "metadata": {},
   "outputs": [],
   "source": []
  }
 ],
 "metadata": {
  "kernelspec": {
   "display_name": "Python 3.8.15 ('tf-env')",
   "language": "python",
   "name": "python3"
  },
  "language_info": {
   "codemirror_mode": {
    "name": "ipython",
    "version": 3
   },
   "file_extension": ".py",
   "mimetype": "text/x-python",
   "name": "python",
   "nbconvert_exporter": "python",
   "pygments_lexer": "ipython3",
   "version": "3.8.15"
  },
  "orig_nbformat": 4,
  "vscode": {
   "interpreter": {
    "hash": "a519badb918331f0d8c64ed18a42c37ad23f1f7898e2293b12d9d4e1cd8409d0"
   }
  }
 },
 "nbformat": 4,
 "nbformat_minor": 2
}
