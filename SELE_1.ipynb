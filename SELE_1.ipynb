{
 "cells": [
  {
   "cell_type": "code",
   "execution_count": 9,
   "metadata": {},
   "outputs": [],
   "source": [
    "#IMPORTS\n",
    "\n",
    "import pandas as pd\n",
    "import numpy as np\n",
    "\n",
    "from selenium import webdriver\n",
    "from selenium.webdriver.common.by import By\n",
    "from selenium.webdriver.common.keys import Keys\n",
    "from selenium.webdriver.common.action_chains import ActionChains\n",
    "from selenium.common.exceptions import NoSuchElementException\n",
    "\n",
    "import requests\n",
    "from bs4 import BeautifulSoup\n",
    "import time"
   ]
  },
  {
   "cell_type": "code",
   "execution_count": 10,
   "metadata": {},
   "outputs": [
    {
     "name": "stderr",
     "output_type": "stream",
     "text": [
      "/var/folders/6g/zn0bw_6s1ws2qwbb44k4ppkw0000gn/T/ipykernel_19295/243403321.py:7: DeprecationWarning: executable_path has been deprecated, please pass in a Service object\n",
      "  driver = webdriver.Chrome(PATH)\n"
     ]
    }
   ],
   "source": [
    "df = pd.DataFrame(columns=['href_list']) # creates master dataframe \n",
    "\n",
    "# Chromedriver Path\n",
    "PATH = \"/Users/javm/Desktop/chromedriver_mac_arm64/chromedriver\"\n",
    "\n",
    "# this creates/opens Chrome browser\n",
    "driver = webdriver.Chrome(PATH)\n",
    "\n",
    "#creating list of href\n",
    "href_list = []\n",
    "\n",
    "for listings in range(1,21):\n",
    "    page_num = str(listings)\n",
    "    url = 'https://www.barnesandnoble.com/b/books/_/N-1z13w9sZ1sZ29Z8q8?Nrpp=20&page=' + page_num\n",
    "    driver.get(url)\n",
    "    # freeze/halt python so url loads completely\n",
    "    driver.implicitly_wait(60)\n",
    "    \n",
    "    #find hrefs\n",
    "    div_elements = driver.find_elements(By.CSS_SELECTOR, \"div.product-shelf-title.product-info-title.pt-xs\")\n",
    "    for div_element in div_elements:\n",
    "        elements = div_element.find_elements(By.TAG_NAME, \"a\")\n",
    "        for element in elements:\n",
    "            href = element.get_attribute('href')\n",
    "            href_list.append(href)\n",
    "\n",
    "    urls_df = pd.DataFrame(href_list, columns=['href_list']) # creates master dataframe\n",
    "    df = pd.concat([df, urls_df], ignore_index=True)\n",
    "    \n",
    "driver.close()\n"
   ]
  },
  {
   "cell_type": "code",
   "execution_count": 11,
   "metadata": {},
   "outputs": [
    {
     "data": {
      "text/plain": [
       "400"
      ]
     },
     "execution_count": 11,
     "metadata": {},
     "output_type": "execute_result"
    }
   ],
   "source": [
    "len(href_list)"
   ]
  },
  {
   "cell_type": "code",
   "execution_count": 12,
   "metadata": {},
   "outputs": [
    {
     "name": "stderr",
     "output_type": "stream",
     "text": [
      "/var/folders/6g/zn0bw_6s1ws2qwbb44k4ppkw0000gn/T/ipykernel_19295/1683694768.py:5: DeprecationWarning: executable_path has been deprecated, please pass in a Service object\n",
      "  driver = webdriver.Chrome(PATH)\n"
     ]
    }
   ],
   "source": [
    "# Chromedriver Path\n",
    "PATH = \"/Users/javm/Desktop/chromedriver_mac_arm64/chromedriver\"\n",
    "\n",
    "# this creates/opens Chrome browser\n",
    "driver = webdriver.Chrome(PATH)\n",
    "\n",
    "book_details = []\n",
    "\n",
    "for index, href in enumerate(href_list):\n",
    "    driver.get(href)\n",
    "    driver.implicitly_wait(60)\n",
    "\n",
    "    # find titles\n",
    "    titles = driver.find_elements(By.TAG_NAME, 'h1')\n",
    "    title_list = []\n",
    "    for t in range(len(titles)):\n",
    "        title_list.append(titles[t].text)\n",
    "\n",
    "    if not title_list:\n",
    "        continue\n",
    "\n",
    "    # find author\n",
    "    author_list = []\n",
    "    try:\n",
    "        author_elems = driver.find_elements(By.CSS_SELECTOR, '.contributors.pdp-book-author a')\n",
    "        for author_elem in author_elems:\n",
    "            author_list.append(author_elem.text)\n",
    "    except NoSuchElementException:\n",
    "        author_list = [np.nan]\n",
    "\n",
    "    # find publisher\n",
    "    try:\n",
    "        publisher_span = driver.find_element(By.CSS_SELECTOR, 'span[itemprop=\"publisher\"]')\n",
    "        publisher = publisher_span.text\n",
    "    except NoSuchElementException:\n",
    "        publisher = np.nan\n",
    "\n",
    "    # find blurb\n",
    "    try:\n",
    "        parent_div = driver.find_element(By.XPATH, '//*[@id=\"overviewSection\"]')\n",
    "        blurb_text = parent_div.text\n",
    "    except NoSuchElementException:\n",
    "        blurb_text = np.nan\n",
    "    \n",
    "    book = [title_list[1] if len(title_list) > 1 else title_list[0], author_list, publisher, blurb_text]\n",
    "    book_details.append(book)\n",
    "\n",
    "driver.quit()\n",
    "\n",
    "BOOK_DF_1 = pd.DataFrame(book_details, columns=['title', 'authors', 'publisher', 'blurb'])\n",
    "\n"
   ]
  },
  {
   "cell_type": "code",
   "execution_count": 13,
   "metadata": {},
   "outputs": [
    {
     "name": "stdout",
     "output_type": "stream",
     "text": [
      "<class 'pandas.core.frame.DataFrame'>\n",
      "RangeIndex: 400 entries, 0 to 399\n",
      "Data columns (total 4 columns):\n",
      " #   Column     Non-Null Count  Dtype \n",
      "---  ------     --------------  ----- \n",
      " 0   title      400 non-null    object\n",
      " 1   authors    400 non-null    object\n",
      " 2   publisher  400 non-null    object\n",
      " 3   blurb      397 non-null    object\n",
      "dtypes: object(4)\n",
      "memory usage: 12.6+ KB\n"
     ]
    }
   ],
   "source": [
    "BOOK_DF_1.info()"
   ]
  },
  {
   "cell_type": "code",
   "execution_count": 14,
   "metadata": {},
   "outputs": [],
   "source": [
    "BOOK_DF_1.to_csv('books_1.csv', index = False)"
   ]
  },
  {
   "cell_type": "code",
   "execution_count": 15,
   "metadata": {},
   "outputs": [
    {
     "data": {
      "text/html": [
       "<div>\n",
       "<style scoped>\n",
       "    .dataframe tbody tr th:only-of-type {\n",
       "        vertical-align: middle;\n",
       "    }\n",
       "\n",
       "    .dataframe tbody tr th {\n",
       "        vertical-align: top;\n",
       "    }\n",
       "\n",
       "    .dataframe thead th {\n",
       "        text-align: right;\n",
       "    }\n",
       "</style>\n",
       "<table border=\"1\" class=\"dataframe\">\n",
       "  <thead>\n",
       "    <tr style=\"text-align: right;\">\n",
       "      <th></th>\n",
       "      <th>title</th>\n",
       "      <th>authors</th>\n",
       "      <th>publisher</th>\n",
       "      <th>blurb</th>\n",
       "    </tr>\n",
       "  </thead>\n",
       "  <tbody>\n",
       "    <tr>\n",
       "      <th>0</th>\n",
       "      <td>Generación idiota: Una crítica al adolescentrismo</td>\n",
       "      <td>[, Agustin Laje]</td>\n",
       "      <td>HarperCollins Mexico</td>\n",
       "      <td>Overview\\nNotes From Your Bookseller\\nEl contr...</td>\n",
       "    </tr>\n",
       "    <tr>\n",
       "      <th>1</th>\n",
       "      <td>Spare: En la sombra</td>\n",
       "      <td>[, Prince Harry, The Duke of Sussex]</td>\n",
       "      <td>PRH Grupo Editorial</td>\n",
       "      <td>Overview\\nNotes From Your Bookseller\\nLa contr...</td>\n",
       "    </tr>\n",
       "    <tr>\n",
       "      <th>2</th>\n",
       "      <td>Volver a empezar / It Starts with Us (Spanish ...</td>\n",
       "      <td>[, Colleen Hoover]</td>\n",
       "      <td>Planeta Publishing Corporation</td>\n",
       "      <td>Overview\\nNotes From Your Bookseller\\n¡Colleen...</td>\n",
       "    </tr>\n",
       "    <tr>\n",
       "      <th>3</th>\n",
       "      <td>¡Vámonos a la Estufa! con Janet Jauja Cocina M...</td>\n",
       "      <td>[, Kushner, Janet]</td>\n",
       "      <td>Larousse</td>\n",
       "      <td>Overview\\nNotes From Your Bookseller\\nJauja, l...</td>\n",
       "    </tr>\n",
       "    <tr>\n",
       "      <th>4</th>\n",
       "      <td>RUGE: O espera a ser devorado (Spanish Edition)</td>\n",
       "      <td>[, Daniel Habif]</td>\n",
       "      <td>Editorial Planeta Mexicana S.A. de C.V.</td>\n",
       "      <td>Overview\\nNotes From Your Bookseller\\nCon su c...</td>\n",
       "    </tr>\n",
       "    <tr>\n",
       "      <th>...</th>\n",
       "      <td>...</td>\n",
       "      <td>...</td>\n",
       "      <td>...</td>\n",
       "      <td>...</td>\n",
       "    </tr>\n",
       "    <tr>\n",
       "      <th>395</th>\n",
       "      <td>Autocuración</td>\n",
       "      <td>[, Jeff Rediger]</td>\n",
       "      <td>Urano Publishing, Inc.</td>\n",
       "      <td>Overview\\nUn psiquiatra de Harvard desvela las...</td>\n",
       "    </tr>\n",
       "    <tr>\n",
       "      <th>396</th>\n",
       "      <td>Indira (Indira Ramos 3)</td>\n",
       "      <td>[, Santiago Díaz]</td>\n",
       "      <td>Penguin Random House Grupo Editorial España</td>\n",
       "      <td>Overview\\nIndira Ramos en la mayor encrucijada...</td>\n",
       "    </tr>\n",
       "    <tr>\n",
       "      <th>397</th>\n",
       "      <td>Nuestro secreto</td>\n",
       "      <td>[, Alessandra Neymar]</td>\n",
       "      <td>Amazon Digital Services LLC - Kdp</td>\n",
       "      <td>Overview\\nUna historia de BAJO EL CIELO PÚRPUR...</td>\n",
       "    </tr>\n",
       "    <tr>\n",
       "      <th>398</th>\n",
       "      <td>Mucho después de medianoche</td>\n",
       "      <td>[, , Ray Bradbury, Simon Saito (Translator)]</td>\n",
       "      <td>Planeta Publishing Corporation</td>\n",
       "      <td>Overview\\nVeintidós cuentos para leer mucho de...</td>\n",
       "    </tr>\n",
       "    <tr>\n",
       "      <th>399</th>\n",
       "      <td>En busca de la normalidad</td>\n",
       "      <td>[, Alexa Tsoulis-Reay]</td>\n",
       "      <td>Urano Publishing, Inc.</td>\n",
       "      <td>Overview\\nEste es un recorrido a través de las...</td>\n",
       "    </tr>\n",
       "  </tbody>\n",
       "</table>\n",
       "<p>400 rows × 4 columns</p>\n",
       "</div>"
      ],
      "text/plain": [
       "                                                 title  \\\n",
       "0    Generación idiota: Una crítica al adolescentrismo   \n",
       "1                                  Spare: En la sombra   \n",
       "2    Volver a empezar / It Starts with Us (Spanish ...   \n",
       "3    ¡Vámonos a la Estufa! con Janet Jauja Cocina M...   \n",
       "4      RUGE: O espera a ser devorado (Spanish Edition)   \n",
       "..                                                 ...   \n",
       "395                                       Autocuración   \n",
       "396                            Indira (Indira Ramos 3)   \n",
       "397                                    Nuestro secreto   \n",
       "398                        Mucho después de medianoche   \n",
       "399                          En busca de la normalidad   \n",
       "\n",
       "                                          authors  \\\n",
       "0                                [, Agustin Laje]   \n",
       "1            [, Prince Harry, The Duke of Sussex]   \n",
       "2                              [, Colleen Hoover]   \n",
       "3                              [, Kushner, Janet]   \n",
       "4                                [, Daniel Habif]   \n",
       "..                                            ...   \n",
       "395                              [, Jeff Rediger]   \n",
       "396                             [, Santiago Díaz]   \n",
       "397                         [, Alessandra Neymar]   \n",
       "398  [, , Ray Bradbury, Simon Saito (Translator)]   \n",
       "399                        [, Alexa Tsoulis-Reay]   \n",
       "\n",
       "                                       publisher  \\\n",
       "0                           HarperCollins Mexico   \n",
       "1                            PRH Grupo Editorial   \n",
       "2                 Planeta Publishing Corporation   \n",
       "3                                       Larousse   \n",
       "4        Editorial Planeta Mexicana S.A. de C.V.   \n",
       "..                                           ...   \n",
       "395                       Urano Publishing, Inc.   \n",
       "396  Penguin Random House Grupo Editorial España   \n",
       "397            Amazon Digital Services LLC - Kdp   \n",
       "398               Planeta Publishing Corporation   \n",
       "399                       Urano Publishing, Inc.   \n",
       "\n",
       "                                                 blurb  \n",
       "0    Overview\\nNotes From Your Bookseller\\nEl contr...  \n",
       "1    Overview\\nNotes From Your Bookseller\\nLa contr...  \n",
       "2    Overview\\nNotes From Your Bookseller\\n¡Colleen...  \n",
       "3    Overview\\nNotes From Your Bookseller\\nJauja, l...  \n",
       "4    Overview\\nNotes From Your Bookseller\\nCon su c...  \n",
       "..                                                 ...  \n",
       "395  Overview\\nUn psiquiatra de Harvard desvela las...  \n",
       "396  Overview\\nIndira Ramos en la mayor encrucijada...  \n",
       "397  Overview\\nUna historia de BAJO EL CIELO PÚRPUR...  \n",
       "398  Overview\\nVeintidós cuentos para leer mucho de...  \n",
       "399  Overview\\nEste es un recorrido a través de las...  \n",
       "\n",
       "[400 rows x 4 columns]"
      ]
     },
     "execution_count": 15,
     "metadata": {},
     "output_type": "execute_result"
    }
   ],
   "source": [
    "BOOK_DF_1"
   ]
  },
  {
   "cell_type": "code",
   "execution_count": null,
   "metadata": {},
   "outputs": [],
   "source": []
  }
 ],
 "metadata": {
  "kernelspec": {
   "display_name": "Python 3.8.15 ('tf-env')",
   "language": "python",
   "name": "python3"
  },
  "language_info": {
   "codemirror_mode": {
    "name": "ipython",
    "version": 3
   },
   "file_extension": ".py",
   "mimetype": "text/x-python",
   "name": "python",
   "nbconvert_exporter": "python",
   "pygments_lexer": "ipython3",
   "version": "3.8.15"
  },
  "orig_nbformat": 4,
  "vscode": {
   "interpreter": {
    "hash": "a519badb918331f0d8c64ed18a42c37ad23f1f7898e2293b12d9d4e1cd8409d0"
   }
  }
 },
 "nbformat": 4,
 "nbformat_minor": 2
}
