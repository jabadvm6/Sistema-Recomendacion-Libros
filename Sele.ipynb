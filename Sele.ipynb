{
 "cells": [
  {
   "cell_type": "code",
   "execution_count": 97,
   "metadata": {},
   "outputs": [],
   "source": [
    "from selenium import webdriver\n",
    "from selenium.webdriver.common.by import By\n",
    "from selenium.webdriver.common.keys import Keys\n",
    "from selenium.webdriver.common.action_chains import ActionChains\n",
    "\n",
    "import requests\n",
    "\n",
    "from bs4 import BeautifulSoup\n",
    "import time"
   ]
  },
  {
   "cell_type": "code",
   "execution_count": 98,
   "metadata": {},
   "outputs": [],
   "source": [
    "# this is your base url\n",
    "url = \"https://www.barnesandnoble.com/b/books/_/N-1z13w9sZ1sZ29Z8q8?Nrpp=20&page=1\""
   ]
  },
  {
   "cell_type": "code",
   "execution_count": 112,
   "metadata": {},
   "outputs": [
    {
     "name": "stderr",
     "output_type": "stream",
     "text": [
      "/var/folders/6g/zn0bw_6s1ws2qwbb44k4ppkw0000gn/T/ipykernel_87118/1614764866.py:5: DeprecationWarning: executable_path has been deprecated, please pass in a Service object\n",
      "  driver = webdriver.Chrome(PATH)\n"
     ]
    }
   ],
   "source": [
    "# Chromedriver Path\n",
    "PATH = \"/Users/javm/Desktop/chromedriver_mac_arm64/chromedriver\"\n",
    "\n",
    "# this creates/opens Chrome browser\n",
    "driver = webdriver.Chrome(PATH)\n",
    "\n",
    "# instantiate ActionChains\n",
    "action = ActionChains(driver)\n",
    "\n",
    "# this opens desired url on browser\n",
    "driver.get(url)\n",
    "\n",
    "driver.implicitly_wait(20)"
   ]
  },
  {
   "cell_type": "code",
   "execution_count": 102,
   "metadata": {},
   "outputs": [],
   "source": [
    "url_list = []"
   ]
  },
  {
   "cell_type": "code",
   "execution_count": 103,
   "metadata": {},
   "outputs": [],
   "source": [
    "elems = driver.find_elements(By.TAG_NAME, 'a')\n"
   ]
  },
  {
   "cell_type": "code",
   "execution_count": 104,
   "metadata": {},
   "outputs": [],
   "source": [
    "for elem in elems:\n",
    "        href = elem.get_attribute('href')\n",
    "        if href is not None:\n",
    "            url_list1.append(href)"
   ]
  },
  {
   "cell_type": "code",
   "execution_count": 105,
   "metadata": {},
   "outputs": [
    {
     "name": "stdout",
     "output_type": "stream",
     "text": [
      "['', 'https://www.barnesandnoble.com/b/toys-games/science-center/_/N-8qfZ1hph', 'https://www.barnesandnoble.com/b/ebooks-nook/religion/_/N-8qaZ17d6', 'https://www.barnesandnoble.com/s/%22Dra.%20Daniela%20Owen%22;jsessionid=B7FD3FF5FA81957BDC538EAD3E33D4EF.prodny_store02-atgap12?Ntk=P_key_Contributor_List&Ns=P_Sales_Rank&Ntx=mode+matchall', 'https://www.barnesandnoble.com/b/stationery-gifts/art-supplies/_/N-8qgZ1h02', 'https://www.barnesandnoble.com/s/%22Anabel%20Hern%C3%A1ndez%22;jsessionid=B7FD3FF5FA81957BDC538EAD3E33D4EF.prodny_store02-atgap12?Ntk=P_key_Contributor_List&Ns=P_Sales_Rank&Ntx=mode+matchall', 'https://www.barnesandnoble.com/b/everyones-talking-about/_/N-2tyk', 'https://www.barnesandnoble.com/w/todos-sienten-enojo-alguna-vez-dra-daniela-owen/1142791493;jsessionid=C85FEC340FAD59275A537E4027868A81.prodny_store01-atgap09?ean=9781957922737', 'https://www.barnesandnoble.com/b/books/fiction/_/N-1z13w9sZ1sZ29Z8q8Z10h8;jsessionid=B7FD3FF5FA81957BDC538EAD3E33D4EF.prodny_store02-atgap12', 'https://www.barnesandnoble.com/b/things-to-do-at-home/_/N-2ugd', 'https://www.barnesandnoble.com/b/signed-books-at-bncom/nonfiction/_/N-rp2Z2urc', 'https://www.barnesandnoble.com/b/series/moomin-series/_/N-2wyr', 'https://www.barnesandnoble.com/b/stationery-gifts/greeting-cards/thank-you/_/N-8qgZ2ven', 'https://www.barnesandnoble.com/b/page-screen/_/N-2ftm', 'https://www.barnesandnoble.com/w/la-disciplina-marcar-tu-destino-discipline-is-destiny-ryan-holiday/1142314566;jsessionid=B7FD3FF5FA81957BDC538EAD3E33D4EF.prodny_store02-atgap12?ean=9788417992675', 'https://www.barnesandnoble.com/b/toys-games/puzzles/_/N-8qfZ1hox', 'https://www.barnesandnoble.com/b/books/fiction/_/N-29Z8q8Z10h8', 'https://www.barnesandnoble.com/b/binge-a-new-ya-series/_/N-2ukd', 'https://nook.barnesandnoble.com/my_library/', 'javascript:void(0);', 'https://www.barnesandnoble.com/w/todos-sienten-ansiedad-alguna-vez-dra-daniela-owen/1142788161;jsessionid=C85FEC340FAD59275A537E4027868A81.prodny_store01-atgap09?ean=9781957922751', 'https://www.barnesandnoble.com/b/toys-games/trend/loungefly/_/N-8qfZ2tn6', 'https://www.barnesandnoble.com/b/books/music-film-performing-arts/_/N-1z13w9sZ1sZ29Z8q8Zzzc;jsessionid=C85FEC340FAD59275A537E4027868A81.prodny_store01-atgap09', 'https://www.barnesandnoble.com/b/the-trend-shop/_/N-2mwh', 'https://www.barnesandnoble.com/w/todos-sienten-enojo-alguna-vez-dra-daniela-owen/1142791493;jsessionid=B7FD3FF5FA81957BDC538EAD3E33D4EF.prodny_store02-atgap12?ean=9781957922737', 'https://www.barnesandnoble.com/b/books/poetry/_/N-1z13w9sZ1sZ29Z8q8Z1pqh;jsessionid=C85FEC340FAD59275A537E4027868A81.prodny_store01-atgap09', 'https://www.barnesandnoble.com/b/books/social-sciences/_/N-1z13w9sZ1sZ29Z8q8Z18q3;jsessionid=C85FEC340FAD59275A537E4027868A81.prodny_store01-atgap09', 'https://www.barnesandnoble.com/b/barnes-nobles-best-audiobooks-of-2022/_/N-2x9o', 'https://www.barnesandnoble.com/b/toys-games/planes-trains-autos/_/N-8qfZ1hnv', 'https://www.barnesandnoble.com/;jsessionid=B7FD3FF5FA81957BDC538EAD3E33D4EF.prodny_store02-atgap12', 'https://www.barnesandnoble.com/b/books/crafts-hobbies/_/N-1z13w9sZ1sZ29Z8q8Z1f43;jsessionid=B7FD3FF5FA81957BDC538EAD3E33D4EF.prodny_store02-atgap12', 'https://www.barnesandnoble.com/b/books/teen-fiction/science-fiction-teen-fiction/_/N-29Z8q8Z1a5h', 'https://www.barnesandnoble.com/b/nonfiction/audiobooks/_/N-2urcZ2sgz', 'https://www.barnesandnoble.com/b/books/_/N-1z13w9sZ1sZ29Z8q8?Nrpp=20&page=2', 'https://www.barnesandnoble.com/b/books/_/N-1z13w9sZ1sZ29Z8q8?&Ns=P_Sales_Rank%7C0&page=1', 'https://www.barnesandnoble.com/b/books/new-age-alternative-beliefs/_/N-1z13w9sZ1sZ29Z8q8Z1fib;jsessionid=C85FEC340FAD59275A537E4027868A81.prodny_store01-atgap09', 'https://www.barnesandnoble.com/membership/', 'https://www.barnesandnoble.com/b/the-jim-henson-company-ebooks-collection/_/N-2vue', 'https://www.barnesandnoble.com/b/books/medicine-nursing/_/N-1z13w9sZ1sZ29Z8q8Z167w;jsessionid=B7FD3FF5FA81957BDC538EAD3E33D4EF.prodny_store02-atgap12', 'https://www.barnesandnoble.com/b/books/_/N-1z13w9sZ1sZ29Z8q8?&Ns=P_Publication_Date%7C1&page=1', 'https://www.barnesandnoble.com/b/ebooks-nook/fiction/literary-fiction/_/N-8qaZ10k1', 'https://www.barnesandnoble.com/b/books/_/N-1z13w9sZ1sZcZ29Z8q8;jsessionid=C85FEC340FAD59275A537E4027868A81.prodny_store01-atgap09', 'https://www.barnesandnoble.com/b/audiobooks/history/_/N-2sgzZ11km', 'https://www.barnesandnoble.com/b/ebooks-nook/poetry/_/N-8qaZ1pqh', 'https://www.barnesandnoble.com/s/re+wrap/_/N-8qg', 'https://www.barnesandnoble.com/w/spare-prince-harry-the-duke-of-sussex/1142591422;jsessionid=C85FEC340FAD59275A537E4027868A81.prodny_store01-atgap09?ean=9781644737651', 'https://www.barnesandnoble.com/b/best-audiobooks-to-listen-to-while-youre-driving/_/N-2w46', 'https://www.barnesandnoble.com/b/books/humor/_/N-1z13w9sZ1sZ29Z8q8Z15mo;jsessionid=B7FD3FF5FA81957BDC538EAD3E33D4EF.prodny_store02-atgap12', 'https://www.barnesandnoble.com/s/%22Adrienne%20Young%22;jsessionid=C85FEC340FAD59275A537E4027868A81.prodny_store01-atgap09?Ntk=P_key_Contributor_List&Ns=P_Sales_Rank&Ntx=mode+matchall', 'https://www.barnesandnoble.com/b/toys-games/_/N-9Z8qf', 'https://www.barnesandnoble.com/b/books/teens-ya/_/N-1z13w9sZ1sZ29Z8q8Z19r4;jsessionid=C85FEC340FAD59275A537E4027868A81.prodny_store01-atgap09', 'https://www.barnesandnoble.com/b/toys-games/baby-boutique/_/N-8qfZ1hl8', 'https://www.barnesandnoble.com/w/violeta-isabel-allende/1140493958;jsessionid=B7FD3FF5FA81957BDC538EAD3E33D4EF.prodny_store02-atgap12?ean=9781644736791', 'https://www.barnesandnoble.com/b/audiobooks/science-fiction-fantasy/_/N-2sgzZ180l', 'https://www.barnesandnoble.com/b/movies-tv/_/N-1fZ8qh', 'https://www.barnesandnoble.com/s/%22Elena%20Ch%C3%A1vez%22;jsessionid=B7FD3FF5FA81957BDC538EAD3E33D4EF.prodny_store02-atgap12?Ntk=P_key_Contributor_List&Ns=P_Sales_Rank&Ntx=mode+matchall', 'https://www.barnesandnoble.com/b/books/philosophy/_/N-1z13w9sZ1sZ29Z8q8Z1fe7;jsessionid=C85FEC340FAD59275A537E4027868A81.prodny_store01-atgap09', 'https://www.barnesandnoble.com/b/audiobooks-coming-soon/_/N-2wr0', 'https://www.barnesandnoble.com/b/stationery-gifts/_/N-8qg', 'https://www.barnesandnoble.com/b/toys-games/_/N-7Z8qf', 'https://www.barnesandnoble.com/b/books/_/N-1z13w9sZ1sZ1z141jfZ29Z8q8;jsessionid=B7FD3FF5FA81957BDC538EAD3E33D4EF.prodny_store02-atgap12', 'https://www.barnesandnoble.com/b/movies-tv/drama/_/N-8qhZ1etw', 'https://www.barnesandnoble.com/b/books/diet-health-fitness/_/N-29Z8q8Z11ip', 'https://www.barnesandnoble.com/s/%22Ana%20Huang%22;jsessionid=B7FD3FF5FA81957BDC538EAD3E33D4EF.prodny_store02-atgap12?Ntk=P_key_Contributor_List&Ns=P_Sales_Rank&Ntx=mode+matchall', 'https://www.barnesandnoble.com/b/contributor/stuart-gibbs/_/N-2uh4', 'https://www.barnesandnoble.com/b/books/fiction/literary-fiction/_/N-29Z8q8Z10k1', 'https://www.barnesandnoble.com/b/books/home-garden/_/N-29Z8q8Z12zi', 'https://www.barnesandnoble.com/b/books/romance/_/N-29Z8q8Z17y3', 'https://www.barnesandnoble.com/b/discover-a-new-series/_/N-2xckZ2sgz', 'https://www.barnesandnoble.com/b/contributor/rainbow-rowell/_/N-2kjk', 'https://www.barnesandnoble.com/b/boxed-sets/_/N-2gx7', 'https://www.barnesandnoble.com/b/top-selling-audiobooks/_/N-2wkg', 'https://www.barnesandnoble.com/b/ebooks-nook/biography/_/N-8qaZsoc', 'https://www.barnesandnoble.com/b/contributor/dav-pilkey/_/N-2k72', 'https://www.barnesandnoble.com/s/%22Donna%20Barba%20Higuera%22;jsessionid=B7FD3FF5FA81957BDC538EAD3E33D4EF.prodny_store02-atgap12?Ntk=P_key_Contributor_List&Ns=P_Sales_Rank&Ntx=mode+matchall', 'https://www.barnesandnoble.com/b/foreign-language-ebooks/_/N-1p5a', 'https://www.barnesandnoble.com/s/%22Fable%22;jsessionid=C85FEC340FAD59275A537E4027868A81.prodny_store01-atgap09?Ntk=P_Series_Title&Ns=P_Series_Number&Ntx=mode+matchall', 'https://www.barnesandnoble.com/w/volver-a-empezar-it-starts-with-us-colleen-hoover/1142826131;jsessionid=B7FD3FF5FA81957BDC538EAD3E33D4EF.prodny_store02-atgap12?ean=9786070796746', 'https://www.barnesandnoble.com/b/nonfiction/ebooks-nook/_/N-2urcZ8qa', 'https://www.barnesandnoble.com/s/%22Yanitzia%20Canetti%22;jsessionid=C85FEC340FAD59275A537E4027868A81.prodny_store01-atgap09?Ntk=P_key_Contributor_List&Ns=P_Sales_Rank&Ntx=mode+matchall', 'https://www.barnesandnoble.com/b/everyones-talking-about/kids/_/N-8Z2tykZ1z0v0e6Ztu1', 'https://www.barnesandnoble.com/s/%22Kushner,%20Janet%22;jsessionid=C85FEC340FAD59275A537E4027868A81.prodny_store01-atgap09?Ntk=P_key_Contributor_List&Ns=P_Sales_Rank&Ntx=mode+matchall', 'https://www.barnesandnoble.com/b/toys-games/building-lego/_/N-8qfZ1hmc', 'https://www.barnesandnoble.comhttps//www.barnesandnoble.com/b/books/book-club-selections/barnes-noble-book-club/_/N-29Z8q8Z2q6q', 'https://www.barnesandnoble.com/b/ebooks-nook/nature/_/N-8qaZ16i5', 'https://www.barnesandnoble.com/b/contributor/adam-silvera/_/N-2wt8', 'https://www.barnesandnoble.com/b/from-page-to-screen-dvds-blu-rays/_/N-1goz', 'https://www.barnesandnoble.com/b/books/_/N-1z13w9sZ1sZ6Z29Z8q8;jsessionid=B7FD3FF5FA81957BDC538EAD3E33D4EF.prodny_store02-atgap12', 'https://www.barnesandnoble.com/s/%22Luis%20A.%20Garcia%20Nevares%22;jsessionid=C85FEC340FAD59275A537E4027868A81.prodny_store01-atgap09?Ntk=P_key_Contributor_List&Ns=P_Sales_Rank&Ntx=mode+matchall', 'https://www.barnesandnoble.com/b/rifle-paper-co/_/N-2vq0', 'https://www.barnesandnoble.com/h/home-and-gifts-by-brand-or-subject/browse', 'https://www.barnesandnoble.com/b/books/bibles-christianity/_/N-1z13w9sZ1sZ29Z8q8Zsj2;jsessionid=B7FD3FF5FA81957BDC538EAD3E33D4EF.prodny_store02-atgap12', 'https://www.barnesandnoble.com/b/books/science-fiction-fantasy/_/N-29Z8q8Z180l', 'https://www.barnesandnoble.com/b/books/kids/_/N-7Z29Z8q8Ztu1', 'https://www.barnesandnoble.com/s/%22G%C3%BClce%20Baycik%22;jsessionid=B7FD3FF5FA81957BDC538EAD3E33D4EF.prodny_store02-atgap12?Ntk=P_key_Contributor_List&Ns=P_Sales_Rank&Ntx=mode+matchall', 'https://www.barnesandnoble.com/b/toys-games/family-classic-games/party-games/_/N-8qfZ1hng', 'https://www.barnesandnoble.comhttps//www.barnesandnoble.com/b/special-values-for-kids/_/N-2lbx', 'https://www.barnesandnoble.com/b/books/sports/_/N-29Z8q8Z19id', 'https://www.barnesandnoble.com/b/books/_/N-1sZ29Z8q8;jsessionid=B7FD3FF5FA81957BDC538EAD3E33D4EF.prodny_store02-atgap12', 'https://www.barnesandnoblekitchen.com/', 'https://www.barnesandnoble.com/b/contributor/raina-telgemeier/_/N-2th5', 'https://www.barnesandnoble.com/b/russell-hazel/_/N-2v7t', 'https://www.barnesandnoble.com/b/books/crafts-hobbies/_/N-29Z8q8Z1f43', 'https://www.barnesandnoble.com/b/toys-games/_/N-aZ8qf', 'https://www.barnesandnoble.com/b/funko/_/N-2ips', 'https://www.barnesandnoble.com/b/books/_/N-1z13w9sZ1sZ29Z8q8?Nrpp=20&page=0', 'https://www.barnesandnoble.com/b/picture-books/_/N-2eg0', 'https://www.barnesandnoble.com/s/%22Sogyal%20Rinpoche%22;jsessionid=B7FD3FF5FA81957BDC538EAD3E33D4EF.prodny_store02-atgap12?Ntk=P_key_Contributor_List&Ns=P_Sales_Rank&Ntx=mode+matchall', 'https://www.barnesandnoble.com/b/audiobooks/current-affairs-politics/_/N-2sgzZ16st', 'https://www.barnesandnoble.com/b/books/_/N-1z13w9sZ1sZ6Z29Z8q8;jsessionid=C85FEC340FAD59275A537E4027868A81.prodny_store01-atgap09', 'https://www.barnesandnoble.com/b/contributor/ryan-holiday/_/N-2wn6;jsessionid=C85FEC340FAD59275A537E4027868A81.prodny_store01-atgap09', 'https://www.barnesandnoble.com/b/books/_/N-1z13w9sZ1sZ3Z29Z8q8;jsessionid=C85FEC340FAD59275A537E4027868A81.prodny_store01-atgap09', 'https://www.barnesandnoble.com/w/los-ciclos-del-alma-sharon-m-koenig/1108860972;jsessionid=B7FD3FF5FA81957BDC538EAD3E33D4EF.prodny_store02-atgap12?ean=9788491118916', 'https://www.barnesandnoble.com/b/ebooks-nook/music-film-performing-arts/_/N-8qaZzzc', 'https://www.barnesandnoble.com/b/coming-soon/music/_/N-1oyfZ8qi', 'https://www.barnesandnoble.com/b/toys-games/collectibles/bandaii-collectibles/_/N-8qfZ1qlz', 'https://www.barnesandnoble.com/w/medianoche-adrienne-young/1142080135;jsessionid=C85FEC340FAD59275A537E4027868A81.prodny_store01-atgap09?ean=9788417854751', 'https://www.barnesandnoble.com/b/boxed-sets/teens-ya/_/N-2gx7Z19r4', 'https://press.barnesandnoble.com/', 'https://www.barnesandnoble.com/w/la-disciplina-marcar-tu-destino-discipline-is-destiny-ryan-holiday/1142314566;jsessionid=C85FEC340FAD59275A537E4027868A81.prodny_store01-atgap09?ean=9788417992675', 'https://help.barnesandnoble.com/app/shipping_and_returns/list', 'https://www.barnesandnoble.com/b/best-audiobooks-to-listen-to-while-youre-working/_/N-2w49', 'https://twitter.com/bnbuzz', 'https://www.barnesandnoble.com/h/bn-audiobooks', 'https://www.barnesandnoble.com/b/books/awards/_/N-29Z8q8Z1d6q', 'https://www.barnesandnoble.com/b/homesick-candles/_/N-2w8l', 'https://www.barnesandnoble.com/b/books/awards/kids-book-awards/_/N-29Z8q8Z1s20', 'https://www.barnesandnoble.com/b/stationery-gifts/stationery-writing/_/N-8qgZ1hgp', 'https://www.barnesandnoble.com/b/toys-games/games/gaming-accessories/_/N-8qfZ2wv6', 'https://www.barnesandnoble.com/b/contributor/colleen-hoover/_/N-2w8j;jsessionid=B7FD3FF5FA81957BDC538EAD3E33D4EF.prodny_store02-atgap12', 'https://www.barnesandnoble.com/b/contributor/isabel-allende/_/N-2kap;jsessionid=B7FD3FF5FA81957BDC538EAD3E33D4EF.prodny_store02-atgap12', 'https://www.barnesandnoble.com/b/contributor/who-hq/_/N-2wnd;jsessionid=C85FEC340FAD59275A537E4027868A81.prodny_store01-atgap09', 'https://www.barnesandnoble.com/b/books/_/N-1z13w9sZ1sZ1z141wcZ29Z8q8;jsessionid=C85FEC340FAD59275A537E4027868A81.prodny_store01-atgap09', 'https://www.barnesandnoble.com/b/stationery-gifts/stationery-writing/greeting-cards/_/N-8qgZ2vdy', 'https://www.barnesandnoble.com/b/contributor/isabel-allende/_/N-2kap;jsessionid=C85FEC340FAD59275A537E4027868A81.prodny_store01-atgap09', 'https://www.barnesandnoble.com/b/toys-games/special-collections/disney-by-britto/_/N-8qfZ1qmz', 'https://www.barnesandnoble.com/b/outdoor-toys/_/N-2wpf', 'https://www.barnesandnoble.com/b/nook-daily-find/_/N-1p60', 'https://www.barnesandnoble.com/h/bookfairs', 'https://www.barnesandnoble.com/b/hot-deals-in-toys/_/N-1p5e', 'https://www.barnesandnoble.com/b/the-hunger-games/_/N-1p7i', 'https://www.barnesandnoble.com/b/cavallini-co/_/N-2vpy', 'https://www.barnesandnoble.com/b/books/new-age-alternative-beliefs/astrology-divination/_/N-29Z8q8Z1fil', 'https://www.barnesandnoble.com/b/toys-games/games/_/N-8qfZ2vqi', 'https://www.barnesandnoble.com/w/generaci-n-idiota-agustin-laje/1142549687;jsessionid=B7FD3FF5FA81957BDC538EAD3E33D4EF.prodny_store02-atgap12?ean=9781400238569', 'https://www.barnesandnoble.com/b/books/reference/_/N-1z13w9sZ1sZ29Z8q8Z1g9w;jsessionid=C85FEC340FAD59275A537E4027868A81.prodny_store01-atgap09', 'https://www.barnesandnoble.com/b/toys-games/mind-memory-logic-games/_/N-8qfZ1hih', 'https://www.barnesandnoble.com/b/books/transportation/_/N-1z13w9sZ1sZ29Z8q8Z2e1z;jsessionid=C85FEC340FAD59275A537E4027868A81.prodny_store01-atgap09', 'https://www.barnesandnoble.com/s/%22Prince%20Harry,%20The%20Duke%20of%20Sussex%22;jsessionid=C85FEC340FAD59275A537E4027868A81.prodny_store01-atgap09?Ntk=P_key_Contributor_List&Ns=P_Sales_Rank&Ntx=mode+matchall', 'https://www.barnesandnoble.comhttps//www.barnesandnoble.com/b/series/moomin-series/_/N-2wyr', 'https://www.barnesandnoble.com/b/star-wars/_/N-1p49', 'https://www.barnesandnoble.com/h/in-store-pickup', 'https://www.barnesandnoble.com/b/books/biography/_/N-1z13w9sZ1sZ29Z8q8Zsoc;jsessionid=B7FD3FF5FA81957BDC538EAD3E33D4EF.prodny_store02-atgap12', 'https://www.barnesandnoble.com/w/medianoche-adrienne-young/1142080135;jsessionid=B7FD3FF5FA81957BDC538EAD3E33D4EF.prodny_store02-atgap12?ean=9788417854751', 'https://www.barnesandnoble.com/b/ebooks-nook/_/N-wZ1pZ8qa', 'https://www.barnesandnoble.com/b/books/fiction/thrillers/_/N-29Z8q8Z1d3u', 'https://www.barnesandnoble.com/b/contributor/rick-riordan/_/N-2kka', 'https://www.barnesandnoble.com/b/contributor/mo-willems/_/N-2wid', 'https://www.barnesandnoble.com/b/stationery-gifts/bags-totes/_/N-8qgZ1h04', 'https://www.barnesandnoble.com/b/series/kingdom-of-the-wicked-series/_/N-2wtj', 'https://www.barnesandnoble.com/b/music/_/N-1qZ8qi', 'https://www.barnesandnoble.com/b/national-parks-collection/_/N-2vtk', 'https://www.barnesandnoble.com/s/%22Agustin%20Laje%22;jsessionid=B7FD3FF5FA81957BDC538EAD3E33D4EF.prodny_store02-atgap12?Ntk=P_key_Contributor_List&Ns=P_Sales_Rank&Ntx=mode+matchall', 'https://www.barnesandnoble.com/b/large-print/_/N-1pu1', 'https://cookiepedia.co.uk/giving-consent-to-cookies', 'https://www.barnesandnoble.com/b/mental-health-awareness/_/N-2vmn', 'https://www.barnesandnoble.com/b/the-beatles/_/N-2ge6', 'https://www.barnesandnoble.com/b/books/medicine-nursing/_/N-1z13w9sZ1sZ29Z8q8Z167w;jsessionid=C85FEC340FAD59275A537E4027868A81.prodny_store01-atgap09', 'https://www.barnesandnoble.com/b/books/_/N-1z13w9sZ29Z8q8;jsessionid=C85FEC340FAD59275A537E4027868A81.prodny_store01-atgap09', 'https://www.barnesandnoble.com/b/best-audiobooks-to-listen-to-while-youre-walking/_/N-2w48', 'https://www.barnesandnoble.com/b/toys-games/_/N-8qf', 'https://www.barnesandnoble.com/b/contributor/eric-carle/_/N-2k8p', 'https://www.barnesandnoble.com/b/books/current-affairs-politics/_/N-1z13w9sZ1sZ29Z8q8Z16st;jsessionid=C85FEC340FAD59275A537E4027868A81.prodny_store01-atgap09', 'https://www.barnesandnoble.com/b/books/_/N-1z13w9sZ1sZ29Z8q8?&Ns=P_Publication_Date%7C0&page=1', 'https://www.barnesandnoble.com/b/best-audiobooks-to-listen-to-while-traveling/_/N-2w44', 'https://www.barnesandnoble.com/b/books/art-architecture-photography/_/N-1z13w9sZ1sZ29Z8q8Zs9i;jsessionid=B7FD3FF5FA81957BDC538EAD3E33D4EF.prodny_store02-atgap12', 'https://www.barnesandnoble.com/b/contributor/victoria-aveyard/_/N-2kob', 'https://www.barnesandnoble.com/b/books/_/N-1z13w9sZ1sZcZ29Z8q8;jsessionid=B7FD3FF5FA81957BDC538EAD3E33D4EF.prodny_store02-atgap12', 'https://www.barnesandnoble.com/b/books/literature/_/N-1z13w9sZ1sZ29Z8q8Z15v3;jsessionid=C85FEC340FAD59275A537E4027868A81.prodny_store01-atgap09', 'https://www.barnesandnoble.com/b/books/law/_/N-1z13w9sZ1sZ29Z8q8Z1f68;jsessionid=C85FEC340FAD59275A537E4027868A81.prodny_store01-atgap09', 'https://www.barnesandnoble.com/b/signed-books-at-bncom/_/N-rp2', 'https://www.barnesandnoble.com/h/customer-update-on-covid-19', 'https://www.barnesandnoble.com/b/coming-soon/movies-tv/_/N-1oyfZ8qh', 'https://www.barnesandnoble.com/b/award-nominees/_/N-2h1d', 'https://www.barnesandnoble.com/b/books/literature/folklore-mythology/_/N-29Z8q8Z2geb', 'https://www.barnesandnoble.com/b/books/teen-fiction/mystery-crime-teen-fiction/_/N-29Z8q8Z1a1y', 'https://www.barnesandnoble.com/b/series/wings-of-fire-series/_/N-2th7', 'https://www.barnesandnoble.com/b/music/_/N-1z141ltZ8qi', 'https://www.barnesandnoble.com/b/toys-games/trend/_/N-8qfZ1hpr', 'https://www.barnesandnoble.com/b/books/self-help-relationships/_/N-1z13w9sZ1sZ29Z8q8Z18ly;jsessionid=C85FEC340FAD59275A537E4027868A81.prodny_store01-atgap09', 'https://www.barnesandnoble.com/b/books/psychology/_/N-1z13w9sZ1sZ29Z8q8Z1fcc;jsessionid=C85FEC340FAD59275A537E4027868A81.prodny_store01-atgap09', 'https://www.barnesandnoble.com/s/%22Kushner,%20Janet%22;jsessionid=B7FD3FF5FA81957BDC538EAD3E33D4EF.prodny_store02-atgap12?Ntk=P_key_Contributor_List&Ns=P_Sales_Rank&Ntx=mode+matchall', 'https://www.barnesandnoble.com/s/%22Aurora%20Lauzardo%20Ugarte%22;jsessionid=B7FD3FF5FA81957BDC538EAD3E33D4EF.prodny_store02-atgap12?Ntk=P_key_Contributor_List&Ns=P_Sales_Rank&Ntx=mode+matchall', 'https://www.barnesandnoble.com/w/todos-sienten-triste-alguna-vez-dra-daniela-owen/1142788164;jsessionid=C85FEC340FAD59275A537E4027868A81.prodny_store01-atgap09?ean=9781957922775', 'https://www.barnesandnoble.com/b/foreign-language-books/_/N-2v86', 'https://www.barnesandnoble.com/b/everyones-talking-about/teens-ya/teen-fiction/_/N-2tykZ19zn', 'https://www.barnesandnoble.com/b/the-criterion-collection/_/N-1p0i', 'https://www.barnesandnoble.com/b/books/_/N-8q8;jsessionid=B7FD3FF5FA81957BDC538EAD3E33D4EF.prodny_store02-atgap12', 'https://www.barnesandnoble.com/s/%22Anabel%20Hern%C3%A1ndez%22;jsessionid=C85FEC340FAD59275A537E4027868A81.prodny_store01-atgap09?Ntk=P_key_Contributor_List&Ns=P_Sales_Rank&Ntx=mode+matchall', 'https://www.barnesandnoble.com/b/ebooks-nook/_/N-8qa', 'https://www.barnesandnoble.com/b/books/new-age-alternative-beliefs/_/N-29Z8q8Z1fib', 'https://www.barnesandnoble.com/b/ebooks-nook/fiction/historical-fiction/_/N-8qaZ10nf', 'https://www.barnesandnoble.com/b/stationery-gifts/brands/moleskine/_/N-8qgZ2cpi', 'https://www.barnesandnoble.com/s/%22Aurora%20Humaran%22;jsessionid=B7FD3FF5FA81957BDC538EAD3E33D4EF.prodny_store02-atgap12?Ntk=P_key_Contributor_List&Ns=P_Sales_Rank&Ntx=mode+matchall', 'https://www.barnesandnoble.com/blog/category/reads/podcast/', 'https://www.barnesandnoble.com/b/books/_/N-1z13w9sZ1sZ1z0zv7gZ29Z8q8;jsessionid=B7FD3FF5FA81957BDC538EAD3E33D4EF.prodny_store02-atgap12', 'https://www.barnesandnoble.com/b/books/self-help-relationships/_/N-1z13w9sZ1sZ29Z8q8Z18ly;jsessionid=B7FD3FF5FA81957BDC538EAD3E33D4EF.prodny_store02-atgap12', 'https://www.barnesandnoble.com/b/books/mystery-crime/_/N-1z13w9sZ1sZ29Z8q8Z16g4;jsessionid=C85FEC340FAD59275A537E4027868A81.prodny_store01-atgap09', 'https://www.barnesandnoble.com/b/music-deals/_/N-rjs', 'https://www.barnesandnoble.com/b/_/N-1z13vs7', 'https://www.barnesandnoble.com/b/contributor/ryan-holiday/_/N-2wn6;jsessionid=B7FD3FF5FA81957BDC538EAD3E33D4EF.prodny_store02-atgap12', 'https://www.barnesandnoble.com/s/%22Tenoch%20Huerta%22;jsessionid=B7FD3FF5FA81957BDC538EAD3E33D4EF.prodny_store02-atgap12?Ntk=P_key_Contributor_List&Ns=P_Sales_Rank&Ntx=mode+matchall', 'https://www.barnesandnoble.com/b/book-annex/_/N-8qb', 'https://www.barnesandnoble.com/b/toys-games/arts-crafts/_/N-8qfZ1hkj', 'https://www.barnesandnoble.com/b/audiobooks/mystery-crime/_/N-2sgzZ16g4', 'https://www.barnesandnoble.com/b/books/teens-ya/_/N-26Z29Z8q8Z19r4', 'https://www.barnesandnoble.com/b/books/_/N-1z13w9sZ1sZ1z141jfZ29Z8q8;jsessionid=C85FEC340FAD59275A537E4027868A81.prodny_store01-atgap09', 'https://www.barnesandnoble.com/b/nonfiction/books/_/N-1sZ2urcZ29Z8q8', 'https://www.barnesandnoble.com/b/books/home-garden/_/N-1z13w9sZ1sZ29Z8q8Z12zi;jsessionid=B7FD3FF5FA81957BDC538EAD3E33D4EF.prodny_store02-atgap12', 'https://www.barnesandnoble.com/b/books/kids/_/N-29Z8q8Ztu1', 'https://www.barnesandnoble.com/b/nook-accessories/_/N-1p28', 'https://www.barnesandnoble.com/b/books/book-club-selections/barnes-noble-ya-book-club/_/N-29Z8q8Z2sxl', 'https://www.barnesandnoble.com/b/books/antiques-collectibles/_/N-1z13w9sZ1sZ29Z8q8Zs45;jsessionid=B7FD3FF5FA81957BDC538EAD3E33D4EF.prodny_store02-atgap12', 'https://www.barnesandnoble.com/b/books/social-sciences/true-crime/_/N-29Z8q8Z2cm6', 'https://www.barnesandnoble.com/b/movies-tv/documentary/_/N-8qhZ1et1', 'https://www.barnesandnoble.com/w/volver-a-empezar-it-starts-with-us-colleen-hoover/1142826131;jsessionid=C85FEC340FAD59275A537E4027868A81.prodny_store01-atgap09?ean=9786070796746', 'https://www.barnesandnoble.com/b/toys-games/toys-games-brands/melissa-doug/_/N-8qfZ2c97', 'https://www.barnesandnoble.com/b/books/_/N-1z13w9sZ1sZ1z0zv7gZ29Z8q8;jsessionid=C85FEC340FAD59275A537E4027868A81.prodny_store01-atgap09', 'https://www.barnesandnoble.com/b/books/bibles-christianity/_/N-29Z8q8Zsj2', 'https://www.barnesandnoble.com/b/movies-tv/_/N-1fZ1z141x2Z8qh', 'https://www.barnesandnoble.com/b/ebooks-nook/self-help-relationships/_/N-8qaZ18ly', 'https://www.barnesandnoble.com/b/books/awards/barnes-noble-monthly-picks/_/N-29Z8q8Z2uri', 'https://www.barnesandnoble.com/w/orgullo-prieto-tenoch-huerta/1142453742;jsessionid=C85FEC340FAD59275A537E4027868A81.prodny_store01-atgap09?ean=9786073821049', 'https://www.barnesandnoble.com/b/books/kids/_/N-26Z29Z8q8Ztu1', 'https://www.barnesandnoble.com/b/books/awards/best-books-of-the-year/_/N-29Z8q8Z1qrh', 'https://www.barnesandnoble.com/b/ebooks-nook/fiction/thrillers/_/N-8qaZ1d3u', 'https://www.barnesandnoble.com/b/books/teens-ya/_/N-1sZ29Z8q8Z19r4', 'https://www.barnesandnoble.com/b/lego/_/N-1p5jZ1f', 'https://www.barnesandnoble.com/b/ebooks-nook/current-affairs-politics/_/N-8qaZ16st', 'https://www.barnesandnoble.com/b/fiction/books/_/N-1fZ2usxZ29Z8q8', 'https://www.barnesandnoble.com/b/everyones-talking-about/teens-ya/_/N-2tykZ19r4', 'https://www.barnesandnoble.com/h/movies-and-tv-by-genre-or-subject/browse', 'https://www.barnesandnoble.com/w/twisted-1-twisted-love-ana-huang/1142282311;jsessionid=C85FEC340FAD59275A537E4027868A81.prodny_store01-atgap09?ean=9786070793677', 'https://www.barnesandnoble.com/b/books/teens-ya/life-relationships-teens/_/N-29Z8q8Z1a7g', 'https://www.barnesandnoble.com/s/%22Dede%20Putra%22;jsessionid=C85FEC340FAD59275A537E4027868A81.prodny_store01-atgap09?Ntk=P_key_Contributor_List&Ns=P_Sales_Rank&Ntx=mode+matchall', 'https://www.barnesandnoble.com/b/featured-british-television/_/N-rov', 'https://www.barnesandnoble.com/b/books/_/N-1z13w9sZ1sZ3Z29Z8q8;jsessionid=B7FD3FF5FA81957BDC538EAD3E33D4EF.prodny_store02-atgap12', 'https://www.barnesandnoble.com/b/books/awards/barnes-noble-discover-prize/_/N-29Z8q8Z2x8u', 'https://www.barnesandnoble.com/s/%22Fable%22;jsessionid=B7FD3FF5FA81957BDC538EAD3E33D4EF.prodny_store02-atgap12?Ntk=P_Series_Title&Ns=P_Series_Number&Ntx=mode+matchall', 'https://www.barnesandnoble.com/s/%22Armando%20Lucas%20Correa%22;jsessionid=B7FD3FF5FA81957BDC538EAD3E33D4EF.prodny_store02-atgap12?Ntk=P_key_Contributor_List&Ns=P_Sales_Rank&Ntx=mode+matchall', 'https://bn.clarip.com/dsr/create?type=3', 'https://www.barnesandnoble.com/b/movies-tv-deals/_/N-2fv2', 'https://www.barnesandnoble.com/b/stationery-gifts/reading-aids/_/N-8qgZ1hgh', 'https://www.barnesandnoble.com/b/everyones-talking-about/music-film-performing-arts/_/N-2tykZ1z0v0e6Zzzc', 'https://www.barnesandnoble.com/b/toys-games/toys-games-brands/learning-resources/_/N-8qfZ2wxd', 'https://bn.clarip.com/privacycenter/?brand=barnesandnoble', 'https://www.barnesandnoble.com/b/toys-games/collectibles/gundam/_/N-8qfZ2tl2', 'https://www.barnesandnoble.com/b/books/humor/_/N-29Z8q8Z15mo', 'https://www.barnesandnoble.com/s/%22LAS+CUATRO+VIRTUDES+ESTOICAS%22;jsessionid=B7FD3FF5FA81957BDC538EAD3E33D4EF.prodny_store02-atgap12?Ntk=P_Series_Title&Ns=P_Series_Number&Ntx=mode+matchall', 'http://careers.barnesandnoble.com/', 'https://www.barnesandnoble.com/b/the-new-york-times-bestsellers/_/N-1p3n#hotBooksWithDesc_AudiobookFiction', 'https://www.barnesandnoble.com/b/movies-tv/science-fiction-horror/_/N-8qhZ1f0h', 'https://www.barnesandnoble.com/b/books/humor/_/N-1z13w9sZ1sZ29Z8q8Z15mo;jsessionid=C85FEC340FAD59275A537E4027868A81.prodny_store01-atgap09', 'https://www.barnesandnoble.com/b/books/music-film-performing-arts/_/N-29Z8q8Zzzc', 'https://www.barnesandnoble.com/h/ebooks/subjects', 'https://www.barnesandnoble.com/b/nonfiction/books/_/N-1fZ2urcZ29Z8q8', 'https://www.barnesandnoble.com/b/buy-one-get-one-50-off/audiobooks/_/N-2qukZ2sgz', 'https://www.barnesandnoble.com/b/books/science-fiction-fantasy/_/N-1z13w9sZ1sZ29Z8q8Z180l;jsessionid=C85FEC340FAD59275A537E4027868A81.prodny_store01-atgap09', 'https://www.barnesandnoble.com/b/books/_/N-1z13w9sZ1sZ29Z8q8?&Ns=P_Display_Name%7C0&page=1', 'https://www.barnesandnoble.com/s/%22G%C3%BClce%20Baycik%22;jsessionid=C85FEC340FAD59275A537E4027868A81.prodny_store01-atgap09?Ntk=P_key_Contributor_List&Ns=P_Sales_Rank&Ntx=mode+matchall', 'https://www.barnesandnoble.com/h/copyright-policy', 'https://www.barnesandnoble.com/b/books/business/_/N-29Z8q8Zt82', 'https://www.barnesandnoble.com/b/fiction/books/_/N-2usxZ29Z8q8', 'https://www.barnesandnoble.com/b/books/bibles-christianity/_/N-1z13w9sZ1sZ29Z8q8Zsj2;jsessionid=C85FEC340FAD59275A537E4027868A81.prodny_store01-atgap09', 'https://www.barnesandnoble.com/w/vamos-a-la-estufa-con-janet-kushner-jauja-kushner-janet/1142518062;jsessionid=C85FEC340FAD59275A537E4027868A81.prodny_store01-atgap09?ean=9786072127920', 'https://www.barnesandnoble.com/b/books/literature/_/N-1z13w9sZ1sZ29Z8q8Z15v3;jsessionid=B7FD3FF5FA81957BDC538EAD3E33D4EF.prodny_store02-atgap12', 'https://www.barnesandnoble.comhttps//www.barnesandnoble.com/w/the-nineties-chuck-klosterman/1139432581?ean=9780735217966', 'https://www.barnesandnoble.com/b/books/music-film-performing-arts/_/N-1z13w9sZ1sZ29Z8q8Zzzc;jsessionid=B7FD3FF5FA81957BDC538EAD3E33D4EF.prodny_store02-atgap12', 'https://www.barnesandnoble.com/b/books/home-garden/_/N-1z13w9sZ1sZ29Z8q8Z12zi;jsessionid=C85FEC340FAD59275A537E4027868A81.prodny_store01-atgap09', 'https://www.barnesandnoble.com/h/nook/compare', 'https://www.barnesandnoble.com/b/books/fiction-literature-kids/comic-books-graphic-novels-kids-fiction/_/N-29Z8q8Zty6', 'https://www.barnesandnoble.com/b/books/kids/_/N-8Z29Z8q8Ztu1', 'https://www.barnesandnoble.com/b/music/broadway-vocal/_/N-8qiZ1df7', 'https://press.barnesandnoble.com/bnpress-blog/', 'https://www.barnesandnoble.com/b/contributor/jason-reynolds/_/N-2vh0', 'https://www.barnesandnoble.com/b/books/cookbooks-food-wine/_/N-1z13w9sZ1sZ29Z8q8Zy3b;jsessionid=C85FEC340FAD59275A537E4027868A81.prodny_store01-atgap09', 'https://help.barnesandnoble.com/', 'https://www.barnesandnoble.com/b/buy-one-get-one-50-off/_/N-2quk', 'https://www.barnesandnoble.com/b/doctor-who/_/N-1gnp', 'https://www.barnesandnoble.com/b/books/reference-study-aids-kids/workbooks-kids/_/N-29Z8q8Zu4d', 'https://www.barnesandnoble.com/s/%22Elena%20Ch%C3%A1vez%22;jsessionid=C85FEC340FAD59275A537E4027868A81.prodny_store01-atgap09?Ntk=P_key_Contributor_List&Ns=P_Sales_Rank&Ntx=mode+matchall', 'https://www.barnesandnoble.com/b/toys-games/puzzles/_/N-1sZ8qfZ1hox', 'https://www.barnesandnoble.com/b/books/poetry/_/N-29Z8q8Z1pqh', 'https://www.barnesandnoble.com/b/ebooks-nook/sports/_/N-8qaZ19id', 'https://www.barnesandnoble.com/b/ebooks-nook/mystery-crime/_/N-8qaZ16g4', 'https://www.barnesandnoble.com/b/music/jazz/_/N-8qiZ1dl5', 'https://www.barnesandnoble.com/b/ebooks-nook/graphic-novels-comics/_/N-8qaZucb', 'https://www.barnesandnoble.com/h/bn-accessibility-statement', 'https://www.barnesandnoble.com/b/books/nature/_/N-29Z8q8Z16i5', 'https://www.barnesandnoble.comhttps//www.barnesandnoble.com/w/nook-glowlight-4e-barnes-noble/1140326109?ean=9780594149279', 'https://www.barnesandnoble.com/b/books/social-sciences/_/N-1z13w9sZ1sZ29Z8q8Z18q3;jsessionid=B7FD3FF5FA81957BDC538EAD3E33D4EF.prodny_store02-atgap12', 'https://www.barnesandnoble.com/b/books/_/N-1z13w9sZ1sZ29Z8q8?&Ns=P_Display_Name%7C1&page=1', 'https://www.barnesandnoble.com/b/books/kids-book-awards/barnes-noble-childrens-ya-book-awards/_/N-29Z8q8Z2ve8', 'https://www.barnesandnoble.com/b/toys-games/puzzles/_/N-1fZ8qfZ1hox', 'https://www.barnesandnoble.com/b/toys-games/_/N-8Z8qf', 'https://www.barnesandnoble.com/b/books/_/N-1z13w9sZ1sZ1z0spboZ29Z8q8;jsessionid=B7FD3FF5FA81957BDC538EAD3E33D4EF.prodny_store02-atgap12', 'https://www.barnesandnoble.com/b/books/cookbooks-food-wine/_/N-29Z8q8Zy3b', 'https://www.barnesandnoble.com/b/contributor/who-hq/_/N-2wnd;jsessionid=B7FD3FF5FA81957BDC538EAD3E33D4EF.prodny_store02-atgap12', 'https://www.barnesandnoble.com/b/books/biography/_/N-1z13w9sZ1sZ29Z8q8Zsoc;jsessionid=C85FEC340FAD59275A537E4027868A81.prodny_store01-atgap09', 'https://www.barnesandnoble.com/b/stationery-gifts/journals/_/N-1fZ8qgZ1hg8', 'https://www.barnesandnoble.com/b/books/teens-ya/_/N-29Z8q8Z19r4', 'https://www.barnesandnoble.com/b/books/romance/_/N-1z13w9sZ1sZ29Z8q8Z17y3;jsessionid=C85FEC340FAD59275A537E4027868A81.prodny_store01-atgap09', 'https://www.barnesandnoble.com/b/books/activity-game-books/_/N-29Z8q8Z1gj3', 'https://www.barnesandnoble.com/b/ebooks-nook/diet-health-fitness/_/N-8qaZ11ip', 'https://www.barnesandnoble.com/b/best-audiobooks-for-a-road-trip-with-kids/_/N-2w0p', 'https://www.barnesandnoble.com/;jsessionid=C85FEC340FAD59275A537E4027868A81.prodny_store01-atgap09', 'https://www.barnesandnoble.com/h/coupons-deals', 'https://www.barnesandnoble.com/w/libro-tibetano-de-la-vida-y-de-la-muerte-el-sogyal-rinpoche/1141953307;jsessionid=C85FEC340FAD59275A537E4027868A81.prodny_store01-atgap09?ean=9788417694203', 'https://www.barnesandnoble.com/s/%22Sharon%20M.%20Koenig%22;jsessionid=C85FEC340FAD59275A537E4027868A81.prodny_store01-atgap09?Ntk=P_key_Contributor_List&Ns=P_Sales_Rank&Ntx=mode+matchall', 'https://www.barnesandnoble.com/b/ya-graphic-novels/_/N-2vmh', 'https://www.barnesandnoble.com/h/affiliates', 'https://www.barnesandnoble.com/b/books/kids/_/N-9Z29Z8q8Ztu1', 'https://www.barnesandnoble.com/s/%22Shatter+Me+Series%22?Ntk=P_Series_Title&Ns=P_Series_Number&Ntx=mode+matchall', 'https://www.barnesandnoble.com/b/books/psychology/_/N-1z13w9sZ1sZ29Z8q8Z1fcc;jsessionid=B7FD3FF5FA81957BDC538EAD3E33D4EF.prodny_store02-atgap12', 'https://www.barnesandnoble.com/account/manage/payment/', 'https://www.barnesandnoble.com/b/barnes-noble-exclusives/music/_/N-2o2bZ8qi', 'https://www.barnesandnoble.com/b/books/_/N-1z13w9sZ1sZ29Z8q8?Nrpp=20&page=3', 'https://help.barnesandnoble.com/app/publisher_author/list', 'https://www.barnesandnoble.com/b/contributor/alice-oseman/_/N-2wt9;jsessionid=C85FEC340FAD59275A537E4027868A81.prodny_store01-atgap09', 'https://www.barnesandnoble.com/b/stationery-gifts/greeting-cards/birthday/_/N-8qgZ2vef', 'https://www.barnesandnoble.com/b/books/nature/_/N-1z13w9sZ1sZ29Z8q8Z16i5;jsessionid=B7FD3FF5FA81957BDC538EAD3E33D4EF.prodny_store02-atgap12', 'https://www.barnesandnoble.com/b/stationery-gifts/journals/guided-journals/_/N-8qgZ2tr9', 'https://www.barnesandnoble.com/w/qui-n-es-michael-jordan-kirsten-anderson/1141319166;jsessionid=C85FEC340FAD59275A537E4027868A81.prodny_store01-atgap09?ean=9780593522677', 'https://www.barnesandnoble.com/b/boxed-sets/kids/_/N-2gx7Ztu1', 'https://www.barnesandnoble.com/b/books/_/N-1z13w9sZ1sZ4Z29Z8q8;jsessionid=B7FD3FF5FA81957BDC538EAD3E33D4EF.prodny_store02-atgap12', 'https://www.barnesandnoble.com/b/books/computers/_/N-1z13w9sZ1sZ29Z8q8Zug4;jsessionid=C85FEC340FAD59275A537E4027868A81.prodny_store01-atgap09', 'https://www.barnesandnoble.com/b/grammy-awards/_/N-1pce', 'https://www.barnesandnoble.com/w/la-ultima-cuentista-donna-barba-higuera/1141251218;jsessionid=C85FEC340FAD59275A537E4027868A81.prodny_store01-atgap09?ean=9781646143023', 'https://www.barnesandnoble.com/b/the-new-york-times-bestsellers/_/N-1p3n', 'https://www.barnesandnoble.com/b/books/teens-ya/_/N-1z13w9sZ1sZ29Z8q8Z19r4;jsessionid=B7FD3FF5FA81957BDC538EAD3E33D4EF.prodny_store02-atgap12', 'https://www.barnesandnoble.com/b/books/antiques-collectibles/_/N-1z13w9sZ1sZ29Z8q8Zs45;jsessionid=C85FEC340FAD59275A537E4027868A81.prodny_store01-atgap09', 'https://www.barnesandnoble.com/b/books/_/N-1z13w9sZ1sZ29Z8q8?Nrpp=20&page=1#', 'https://www.barnesandnoble.com/b/series/throne-of-glass-series/_/N-2wtp', 'https://www.barnesandnoble.com/w/twisted-1-twisted-love-ana-huang/1142282311;jsessionid=B7FD3FF5FA81957BDC538EAD3E33D4EF.prodny_store02-atgap12?ean=9786070793677', 'https://www.barnesandnoble.com/checkout', 'https://www.barnesandnoble.com/b/special-values-for-kids/_/N-2lbx', 'https://www.barnesandnoble.com/b/bn-stores-bestsellers-audiobooks/_/N-2wv9', 'https://www.barnesandnoble.com/b/toys-games/family-classic-games/_/N-8qfZ1hn9', 'https://www.barnesandnoble.com/b/nonfiction/books/_/N-2urcZ29Z8q8', 'https://www.barnesandnoble.com/b/barnes-noble-first-annual-childrens-ya-book-awards/_/N-2vfk', 'https://www.barnesandnoble.com/b/the-baby-sitters-club-book-series/_/N-2usz', 'https://www.barnesandnoble.com/b/ebooks-nook/fiction/horror/_/N-8qaZ1d51', 'https://www.barnesandnoble.com/b/everyones-talking-about/teen-fiction/fantasy-teen-fiction/_/N-2tykZ1z0v0e6Z1a12', 'https://www.barnesandnoble.com/b/books/_/N-1z13w9sZ1sZ1z141tjZ29Z8q8;jsessionid=B7FD3FF5FA81957BDC538EAD3E33D4EF.prodny_store02-atgap12', 'https://www.barnesandnoble.com/b/books/literature/fiction-literature-classics/_/N-29Z8q8Z1pht', 'https://www.barnesandnoble.com/b/movies-tv/classics/_/N-8qhZ1eqv', 'https://www.barnesandnoble.com/b/paperback/_/N-2cnh', 'https://www.barnesandnoble.com/s/%22Kirsten%20Anderson%22;jsessionid=B7FD3FF5FA81957BDC538EAD3E33D4EF.prodny_store02-atgap12?Ntk=P_key_Contributor_List&Ns=P_Sales_Rank&Ntx=mode+matchall', 'https://www.barnesandnoble.com/b/books/kids/_/N-1z13w9sZ1sZ29Z8q8Ztu1;jsessionid=C85FEC340FAD59275A537E4027868A81.prodny_store01-atgap09', 'https://www.barnesandnoble.com/b/ebook-bundles/_/N-rrt', 'https://www.barnesandnoble.com/b/audiobooks/_/N-2sgz', 'https://www.barnesandnoble.com/w/el-rey-del-cash-elena-ch-vez/1142447878;jsessionid=C85FEC340FAD59275A537E4027868A81.prodny_store01-atgap09?ean=9786073820653', 'https://www.barnesandnoble.com/b/music/pop/_/N-8qiZ1du0', 'https://www.barnesandnoble.com/b/stationery-gifts/gift-giving/_/N-8qgZ1hfi', 'https://www.barnesandnoble.com/b/contributor/alice-oseman/_/N-2wt9;jsessionid=B7FD3FF5FA81957BDC538EAD3E33D4EF.prodny_store02-atgap12', 'https://www.barnesandnobleinc.com/', 'https://www.barnesandnoble.com/b/toys-games/games/_/N-1fZ8qfZ2vqi', 'https://www.barnesandnoble.com/b/fiction/books/_/N-1sZ2usxZ29Z8q8', 'https://www.barnesandnoble.com/b/ebooks-nook/_/N-1fZ8qa', 'https://www.barnesandnoble.com/b/indie-books/_/N-8r8', 'https://www.barnesandnoble.comhttps//www.barnesandnoble.com/w/you-think-you-know-me-pink-tiger-games/1141669192?ean=0603784205212', 'https://www.barnesandnoble.com/b/books/diet-health-fitness/_/N-1z13w9sZ1sZ29Z8q8Z11ip;jsessionid=B7FD3FF5FA81957BDC538EAD3E33D4EF.prodny_store02-atgap12', 'https://www.barnesandnoble.com/b/ebooks-nook/fiction/_/N-8qaZ10h8', 'https://www.barnesandnoble.com/b/audiobooks/kids/_/N-2sgzZtu1', 'https://www.barnesandnoble.com/b/books/_/N-1z13w9sZ29Z8q8;jsessionid=B7FD3FF5FA81957BDC538EAD3E33D4EF.prodny_store02-atgap12', 'https://www.barnesandnoble.com/b/books/graphic-novels-comics/manga/_/N-29Z8q8Zucc', 'https://www.barnesandnoble.com/b/_/N-1fZ8qfZ1hie', 'https://www.barnesandnoble.com/b/books-on-cd/_/N-2w84', 'https://www.barnesandnoble.com/w/todos-sienten-ansiedad-alguna-vez-dra-daniela-owen/1142788161;jsessionid=B7FD3FF5FA81957BDC538EAD3E33D4EF.prodny_store02-atgap12?ean=9781957922751', 'https://www.barnesandnoble.com/b/bestsellers/_/N-2uwh', 'https://www.barnesandnoble.com/b/limited-time-audiobook-deals/_/N-2wic', 'https://www.barnesandnoble.com/b/music/blues-folk/_/N-8qiZ1d9q', 'https://www.barnesandnoble.com/b/gift-cards/_/N-8rg', 'https://www.barnesandnoble.com/b/books/social-sciences/_/N-29Z8q8Z18q3', 'https://www.barnesandnoble.com/w/somewhere-we-are-human-donde-somos-humanos-reyna-grande/1140949437;jsessionid=B7FD3FF5FA81957BDC538EAD3E33D4EF.prodny_store02-atgap12?ean=9780063095830', 'https://www.barnesandnoble.com/b/books/_/N-1fZ29Z8q8', 'https://www.barnesandnoble.com/s/%22Aurora%20Lauzardo%20Ugarte%22;jsessionid=C85FEC340FAD59275A537E4027868A81.prodny_store01-atgap09?Ntk=P_key_Contributor_List&Ns=P_Sales_Rank&Ntx=mode+matchall', 'https://www.barnesandnoble.com/b/movies-tv/_/N-1sZ8qh', 'https://www.barnesandnoble.com/b/books/philosophy/_/N-1z13w9sZ1sZ29Z8q8Z1fe7;jsessionid=B7FD3FF5FA81957BDC538EAD3E33D4EF.prodny_store02-atgap12', 'https://www.barnesandnoble.com/b/contributor/alice-oseman/_/N-2wt9', 'https://www.barnesandnoble.com/h/music-by-genre-or-subject/browse', 'https://www.barnesandnoble.com/b/harry-potter/_/N-1p38', 'http://windows.microsoft.com/en-us/internet-explorer/download-ie/', 'https://www.barnesandnoble.com/', 'https://www.barnesandnoble.com/account/includes/view-orders.jsp', 'https://www.barnesandnoble.com/s/%22%C2%BFQui%C3%A9n+fue%3F%22;jsessionid=B7FD3FF5FA81957BDC538EAD3E33D4EF.prodny_store02-atgap12?Ntk=P_Series_Title&Ns=P_Series_Number&Ntx=mode+matchall', 'https://www.barnesandnoble.com/b/books/education/_/N-1z13w9sZ1sZ29Z8q8Zzmg;jsessionid=C85FEC340FAD59275A537E4027868A81.prodny_store01-atgap09', 'https://www.barnesandnoble.com/s/%22LAS+CUATRO+VIRTUDES+ESTOICAS%22;jsessionid=C85FEC340FAD59275A537E4027868A81.prodny_store01-atgap09?Ntk=P_Series_Title&Ns=P_Series_Number&Ntx=mode+matchall', 'https://www.barnesandnoble.com/b/series/moomin-series/_/N-2wyr#', 'https://www.barnesandnoble.com/b/books/parenting-family/_/N-1z13w9sZ1sZ29Z8q8Z16ql;jsessionid=C85FEC340FAD59275A537E4027868A81.prodny_store01-atgap09', 'https://www.barnesandnoble.com/w/libro-tibetano-de-la-vida-y-de-la-muerte-el-sogyal-rinpoche/1141953307;jsessionid=B7FD3FF5FA81957BDC538EAD3E33D4EF.prodny_store02-atgap12?ean=9788417694203', 'https://www.barnesandnoble.com/b/books/_/N-1z13w9sZ1sZ5Z29Z8q8;jsessionid=B7FD3FF5FA81957BDC538EAD3E33D4EF.prodny_store02-atgap12', 'https://www.barnesandnoble.com/s/%22Sogyal%20Rinpoche%22;jsessionid=C85FEC340FAD59275A537E4027868A81.prodny_store01-atgap09?Ntk=P_key_Contributor_List&Ns=P_Sales_Rank&Ntx=mode+matchall', 'https://www.barnesandnoble.com/b/music/classical/_/N-8qiZ1dhi', 'https://www.barnesandnoble.com/s/%22Aurora%20Humaran%22;jsessionid=C85FEC340FAD59275A537E4027868A81.prodny_store01-atgap09?Ntk=P_key_Contributor_List&Ns=P_Sales_Rank&Ntx=mode+matchall', 'https://www.barnesandnoble.com/b/easter-gifts/_/N-2scp', 'https://www.barnesandnoble.com/s/%22Luis%20A.%20Garcia%20Nevares%22;jsessionid=B7FD3FF5FA81957BDC538EAD3E33D4EF.prodny_store02-atgap12?Ntk=P_key_Contributor_List&Ns=P_Sales_Rank&Ntx=mode+matchall', 'https://www.barnesandnoble.com/b/the-best-gifts-for-book-lovers-who-have-no-shelf-control/_/N-2v21', 'https://www.barnesandnoble.com/w/loveless-alice-oseman/1141665267;jsessionid=C85FEC340FAD59275A537E4027868A81.prodny_store01-atgap09?ean=9789877477993', 'https://www.barnesandnoble.com/b/everyones-talking-about/religion/_/N-2tykZ1z0v0e6Z17d6', 'https://www.barnesandnoble.com/b/kids-manga/_/N-2vtb', 'https://www.barnesandnoble.com/w/loveless-alice-oseman/1141665267;jsessionid=B7FD3FF5FA81957BDC538EAD3E33D4EF.prodny_store02-atgap12?ean=9789877477993', 'https://www.barnesandnoble.com/b/books/_/N-1sZ29Z8q8', 'https://www.barnesandnoble.com/b/books/science-technology/_/N-1z13w9sZ1sZ29Z8q8Z184l;jsessionid=B7FD3FF5FA81957BDC538EAD3E33D4EF.prodny_store02-atgap12', 'https://www.barnesandnoble.com/w/el-rey-del-cash-elena-ch-vez/1142447878;jsessionid=B7FD3FF5FA81957BDC538EAD3E33D4EF.prodny_store02-atgap12?ean=9786073820653', 'https://www.barnesandnoble.com/b/books/study-aids-test-prep/_/N-29Z8q8Z1gke', 'https://www.barnesandnoble.com/b/books/activity-game-books/role-playing-fantasy-games/_/N-29Z8q8Z1gj4', 'https://www.barnesandnoble.com/b/stationery-gifts/decorative-accents/_/N-8qgZ1h05', 'https://www.barnesandnoble.com/b/music/_/N-8qi', 'https://www.barnesandnoble.com/s/%22Reyna%20Grande%22;jsessionid=B7FD3FF5FA81957BDC538EAD3E33D4EF.prodny_store02-atgap12?Ntk=P_key_Contributor_List&Ns=P_Sales_Rank&Ntx=mode+matchall', 'https://www.barnesandnoble.com/b/books/kids/_/N-1fZ29Z8q8Ztu1', 'https://www.barnesandnoble.com/b/contributor/holly-black/_/N-2wo1', 'https://www.facebook.com/barnesandnoble', 'https://www.barnesandnoble.com/account/manage/addresses/', 'https://www.barnesandnoble.com/b/music/rock/_/N-8qiZ1e2j', 'https://www.barnesandnoble.com/b/books/fiction/historical-fiction/_/N-29Z8q8Z10nf', 'https://www.barnesandnoble.com/h/nook/apps', 'https://www.barnesandnoble.com/b/stationery-gifts/electronics/_/N-8qgZ1hj0', 'https://www.barnesandnoble.com/b/vinyl-albums/_/N-1fZ1p2a?Ns=P_Sales_Rank', 'https://www.barnesandnoble.com/b/contributor/tahereh-mafi/_/N-2wna', 'https://www.barnesandnoble.com/b/books/kids/_/N-1z0zv7gZ29Z8q8Ztu1', 'https://www.barnesandnoble.com/b/books/diet-health-fitness/_/N-1z13w9sZ1sZ29Z8q8Z11ip;jsessionid=C85FEC340FAD59275A537E4027868A81.prodny_store01-atgap09', 'https://www.barnesandnoble.com/s/%22Yanitzia%20Canetti%22;jsessionid=B7FD3FF5FA81957BDC538EAD3E33D4EF.prodny_store02-atgap12?Ntk=P_key_Contributor_List&Ns=P_Sales_Rank&Ntx=mode+matchall', 'https://www.barnesandnoble.com/b/everyones-talking-about/kids/_/N-aZ2tykZ1z0v0e6Ztu1', 'https://www.barnesandnoble.com/b/series/twilight-saga-series/_/N-2k2t', 'https://www.barnesandnoble.com/b/stationery-gifts/journals/_/N-8qgZ1hg8', 'https://www.barnesandnoble.com/b/books/crafts-hobbies/_/N-1z13w9sZ1sZ29Z8q8Z1f43;jsessionid=C85FEC340FAD59275A537E4027868A81.prodny_store01-atgap09', 'https://www.barnesandnoble.com/b/textbooks/_/N-8q9', 'https://www.barnesandnoble.com/b/toys-games/collectibles/_/N-8qfZ1hie', 'https://www.barnesandnoble.com/b/movies-tv/childrens-movies-tv/_/N-8qhZ1eq5', 'https://www.barnesandnoble.com/b/nonfiction/_/N-1py2', 'https://www.barnesandnoble.com/b/everyones-talking-about/teen-fiction/romance-teen-fiction/_/N-2tykZ1z0v0e6Z1a48', 'https://www.barnesandnoble.com/s/%22Armando%20Lucas%20Correa%22;jsessionid=C85FEC340FAD59275A537E4027868A81.prodny_store01-atgap09?Ntk=P_key_Contributor_List&Ns=P_Sales_Rank&Ntx=mode+matchall', 'https://www.barnesandnoble.com/blog/', 'https://www.barnesandnoble.com/b/lego/_/N-1p5j', 'https://www.barnesandnoble.com/b/books/awards/barnes-noble-book-of-the-year/_/N-29Z8q8Z2xc0', 'https://www.barnesandnoble.com/w/vamos-a-la-estufa-con-janet-kushner-jauja-kushner-janet/1142518062;jsessionid=B7FD3FF5FA81957BDC538EAD3E33D4EF.prodny_store02-atgap12?ean=9786072127920', 'https://www.barnesandnoble.com/s/%22Adrienne%20Young%22;jsessionid=B7FD3FF5FA81957BDC538EAD3E33D4EF.prodny_store02-atgap12?Ntk=P_key_Contributor_List&Ns=P_Sales_Rank&Ntx=mode+matchall', 'https://www.barnesandnoble.comhttps//www.barnesandnoble.com/b/criterion/_/N-1p0i', 'https://www.barnesandnoble.com/b/toys-games/_/N-bZ8qf', 'https://www.barnesandnoble.com/h/books/browse', 'https://www.barnesandnoble.com/b/free-ebooks/ebooks-nook/_/N-ry0Z8qa', 'https://www.barnesandnoble.com/b/books/_/N-1z13w9sZ1sZ29Z8q8?&Ns=P_Sale_Price%7C1&page=1', 'https://www.barnesandnoble.com/w/la-ultima-cuentista-donna-barba-higuera/1141251218;jsessionid=B7FD3FF5FA81957BDC538EAD3E33D4EF.prodny_store02-atgap12?ean=9781646143023', 'https://www.barnesandnoble.com/b/books/law/_/N-1z13w9sZ1sZ29Z8q8Z1f68;jsessionid=B7FD3FF5FA81957BDC538EAD3E33D4EF.prodny_store02-atgap12', 'https://www.barnesandnoble.com/b/ebooks-nook/graphic-novels-comics/manga/_/N-8qaZucc', 'https://www.barnesandnoble.com/b/books/fiction/horror/_/N-29Z8q8Z1d51', 'https://www.barnesandnoble.com/b/studio-ghibli/_/N-2n3h', 'https://www.barnesandnoble.com/b/banned-books/_/N-rtm', 'https://www.barnesandnoble.com/b/books/travel/_/N-1z13w9sZ1sZ29Z8q8Z1ary;jsessionid=B7FD3FF5FA81957BDC538EAD3E33D4EF.prodny_store02-atgap12', 'https://www.barnesandnoble.com/account/kidsclub/', 'https://www.barnesandnoble.com/b/books/book-club-selections/barnes-noble-book-club/_/N-29Z8q8Z2q6q', 'https://www.barnesandnoble.com/b/books/travel/_/N-29Z8q8Z1ary', 'https://www.barnesandnoble.com/b/ebooks-nook/business/_/N-8qaZt82', 'https://www.barnesandnoble.com/b/books/kids/_/N-29Z8q8Ztu1Z1z13raz', 'https://www.barnesandnoble.com/h/bn-educators', 'https://www.barnesandnoble.com/b/books/history/_/N-1z13w9sZ1sZ29Z8q8Z11km;jsessionid=B7FD3FF5FA81957BDC538EAD3E33D4EF.prodny_store02-atgap12', 'https://www.barnesandnoble.com/b/books/contemporary-romance/humorous-contemporary-romance/_/N-29Z8q8Z17z5', 'https://www.barnesandnoble.com/b/new-games/_/N-2nogZ1f', 'https://www.barnesandnoble.com/w/orgullo-prieto-tenoch-huerta/1142453742;jsessionid=B7FD3FF5FA81957BDC538EAD3E33D4EF.prodny_store02-atgap12?ean=9786073821049', 'https://www.barnesandnoble.com/b/books/nature/_/N-1z13w9sZ1sZ29Z8q8Z16i5;jsessionid=C85FEC340FAD59275A537E4027868A81.prodny_store01-atgap09', 'https://www.barnesandnoble.com/b/books/_/N-1z13w9sZ1sZ1z0zta0Z29Z8q8;jsessionid=B7FD3FF5FA81957BDC538EAD3E33D4EF.prodny_store02-atgap12', 'https://www.barnesandnoble.com/s/%22Tracy%20Wolff%22?Ntk=P_key_Contributor_List&Ns=P_Sales_Rank&Ntx=mode+matchall', 'https://www.barnesandnoble.com/b/books/parenting-family/_/N-1z13w9sZ1sZ29Z8q8Z16ql;jsessionid=B7FD3FF5FA81957BDC538EAD3E33D4EF.prodny_store02-atgap12', 'https://www.barnesandnoble.comhttps//www.barnesandnoble.com/w/the-sweet-spot-amy-poeppel/1141652440?ean=2940174913103', 'https://www.barnesandnoble.com/w/la-viajera-nocturna-the-night-travelers-armando-lucas-correa/1142014777;jsessionid=C85FEC340FAD59275A537E4027868A81.prodny_store01-atgap09?ean=9781644736944', 'https://www.barnesandnoble.com/b/ebooks-nook/teens-ya/_/N-8qaZ19r4', 'https://www.barnesandnoble.com/b/toys-games/toys/_/N-8qfZ2vxm', 'https://www.barnesandnoble.com/s/%22Reyna%20Grande%22;jsessionid=C85FEC340FAD59275A537E4027868A81.prodny_store01-atgap09?Ntk=P_key_Contributor_List&Ns=P_Sales_Rank&Ntx=mode+matchall', 'https://www.barnesandnoble.com/h/apps', 'https://www.barnesandnoble.com/b/books/kids/_/N-aZ29Z8q8Ztu1', 'https://www.barnesandnoble.com/b/books/philosophy/_/N-29Z8q8Z1fe7', 'https://www.barnesandnoble.com/b/books/_/N-29Z8q8', 'https://www.barnesandnoble.com/b/books/art-architecture-photography/_/N-29Z8q8Zs9i', 'javascript:void(0)', 'https://www.barnesandnoble.com/b/stationery-gifts/_/N-1fZ8qg', 'https://www.barnesandnoble.com/b/books/business/_/N-1z13w9sZ1sZ29Z8q8Zt82;jsessionid=C85FEC340FAD59275A537E4027868A81.prodny_store01-atgap09', 'https://www.barnesandnoble.com/w/nook-glowlight-4e-barnes-noble/1140326109?ean=9780594149279', 'https://www.barnesandnoble.com/b/music/country/_/N-8qiZ1dg2', 'https://www.barnesandnoble.com/w/you-think-you-know-me-pink-tiger-games/1141669192?ean=0603784205212', 'https://www.barnesandnoble.com/b/toys-games/collectibles/manga-anime-collectibles/_/N-1fZ8qfZ2v8w', 'https://www.barnesandnoble.com/b/books/biography/_/N-29Z8q8Zsoc', 'https://www.barnesandnoble.com/b/ebooks-nook/cookbooks-food-wine/_/N-8qaZy3b', 'https://www.barnesandnoble.com/b/contributor/cassandra-clare/_/N-2k5i', 'https://www.barnesandnoble.com/b/keep-comfy-and-stay-cozy/_/N-2v07', 'https://www.barnesandnoble.com/b/bn-stores-bestsellers-hardcover-fiction-nonfiction/_/N-1p4n', 'https://www.barnesandnoble.com/b/books/_/N-1z13w9sZ1sZ1z0zta0Z29Z8q8;jsessionid=C85FEC340FAD59275A537E4027868A81.prodny_store01-atgap09', 'https://www.barnesandnoble.com/b/everyones-talking-about/literature/literary-fiction/_/N-2tykZ1z0v0e6Z1pi2', 'https://www.barnesandnoble.com/h/bn-mastercard', 'https://www.barnesandnoble.com/b/everyones-talking-about/kids/_/N-2tykZtu1', 'https://www.barnesandnoble.com/w/todos-sienten-triste-alguna-vez-dra-daniela-owen/1142788164;jsessionid=B7FD3FF5FA81957BDC538EAD3E33D4EF.prodny_store02-atgap12?ean=9781957922775', 'https://www.barnesandnoble.com/b/ebooks-nook/romance/_/N-8qaZ17y3', 'https://www.barnesandnoble.com/b/nook-newsstand/newsstand/_/N-8raZ8qe', 'https://www.barnesandnoble.com/b/toys-games/dolls-stuffed-animals/american-girl-welliewishers/_/N-8qfZ2syo', 'https://www.barnesandnoble.com/b/toys-games/_/N-1rZ8qf', 'https://www.barnesandnoble.com/w/violeta-isabel-allende/1140493958;jsessionid=C85FEC340FAD59275A537E4027868A81.prodny_store01-atgap09?ean=9781644736791', 'https://www.barnesandnoble.com/b/nonfiction/books/_/N-26Z2urcZ29Z8q8', 'https://www.barnesandnoble.com/b/books/education/_/N-1z13w9sZ1sZ29Z8q8Zzmg;jsessionid=B7FD3FF5FA81957BDC538EAD3E33D4EF.prodny_store02-atgap12', 'https://www.barnesandnoble.com/s/%22Ana%20Huang%22;jsessionid=C85FEC340FAD59275A537E4027868A81.prodny_store01-atgap09?Ntk=P_key_Contributor_List&Ns=P_Sales_Rank&Ntx=mode+matchall', 'https://www.barnesandnoble.comhttps//www.barnesandnoble.com/b/books/awards/barnes-noble-monthly-picks/_/N-29Z8q8Z2uri', 'https://www.barnesandnoble.com/b/music/soundtracks/_/N-8qiZ1e6t', 'https://www.barnesandnoble.com/b/best-audiobooks-to-listen-to-before-bed/_/N-2w43', 'https://www.barnesandnoble.com/account/', 'https://www.barnesandnoble.com/b/audiobooks-read-by-the-author/audiobooks/_/N-2wm3Z2sgz?Ns=P_Sales_Rank', 'https://www.barnesandnoble.com/s/%22Sharon%20M.%20Koenig%22;jsessionid=B7FD3FF5FA81957BDC538EAD3E33D4EF.prodny_store02-atgap12?Ntk=P_key_Contributor_List&Ns=P_Sales_Rank&Ntx=mode+matchall', 'https://www.barnesandnoble.com/b/audie-award-winners/audiobooks/_/N-2wjhZ2sgz?Ns=P_Sales_Rank', 'https://www.barnesandnoble.com/b/summer-travel-games/_/N-2vly', 'https://www.barnesandnoble.com/h/product-recalls', 'https://www.barnesandnoble.com/b/movies-tv/_/N-8qh', 'https://www.barnesandnoble.com/b/k-pop-music/_/N-2rqs', 'https://www.barnesandnoble.com/h/help/privacy-policy', 'https://www.barnesandnoble.com/b/books/new-age-alternative-beliefs/_/N-1z13w9sZ1sZ29Z8q8Z1fib;jsessionid=B7FD3FF5FA81957BDC538EAD3E33D4EF.prodny_store02-atgap12', 'https://www.barnesandnoble.com/s/%22Sonia%20Gui%C3%B1ansaca%22;jsessionid=B7FD3FF5FA81957BDC538EAD3E33D4EF.prodny_store02-atgap12?Ntk=P_key_Contributor_List&Ns=P_Sales_Rank&Ntx=mode+matchall', 'https://www.barnesandnoble.com/b/grow-your-childs-library-with-top-young-reader-series/_/N-2u22', 'https://www.barnesandnoble.com/s/%22Squishables%22?Ntk=P_key_Contributor_List&Ns=P_Sales_Rank&Ntx=mode+matchall', 'https://www.instagram.com/barnesandnoble/', 'https://www.barnesandnoble.com/b/toys-games/toys-games-brands/tonies/_/N-8qfZ2x0q', 'https://www.barnesandnoble.com/customer-service/bulk-order.jsp', 'https://www.barnesandnoble.com/b/books/religion/_/N-1z13w9sZ1sZ29Z8q8Z17d6;jsessionid=C85FEC340FAD59275A537E4027868A81.prodny_store01-atgap09', 'https://www.barnesandnoble.com/b/indie-books/_/N-8r8Z1f?Ns=P_Sales_Rank', 'https://www.barnesandnoble.com/b/fjallraven/_/N-2q50', 'https://www.barnesandnoble.com/b/books/teen-fiction/romance-teen-fiction/_/N-29Z8q8Z1a48', 'https://www.barnesandnoble.com/h/help/about/terms-of-use', 'https://www.barnesandnoble.com/b/books/awards/book-club-selections/_/N-29Z8q8Z1ql1', 'https://www.barnesandnoble.com/b/books/kids/_/N-1sZ29Z8q8Ztu1', 'https://www.barnesandnoble.com/b/vinyl-albums/_/N-1p2a', 'https://www.barnesandnoble.com/b/everyones-talking-about/kids/_/N-9Z2tykZ1z0v0e6Ztu1', 'https://www.barnesandnoble.com/b/books/_/N-8q8;jsessionid=C85FEC340FAD59275A537E4027868A81.prodny_store01-atgap09', 'https://www.barnesandnoble.com/b/books/_/N-1z13w9sZ1sZ29Z8q8?Nrpp=20&page=50', 'https://www.barnesandnoble.com/b/ebooks-nook/kids/_/N-8qaZtu1', 'https://www.barnesandnoble.com/b/contributor/nicola-yoon/_/N-2vm2', 'https://www.barnesandnoble.com/b/contributor/angie-thomas/_/N-2vm1', 'https://www.barnesandnoble.com/b/pokemon/_/N-2jle', 'https://www.barnesandnoble.com/b/movies-tv/action-adventure/_/N-8qhZ1emd', 'https://www.barnesandnoble.com/s/%22Donna%20Barba%20Higuera%22;jsessionid=C85FEC340FAD59275A537E4027868A81.prodny_store01-atgap09?Ntk=P_key_Contributor_List&Ns=P_Sales_Rank&Ntx=mode+matchall', 'https://www.barnesandnoble.com/b/series/heartstopper-series/_/N-2wth', 'https://www.barnesandnoble.com/b/books/awards/barnes-noble-discover-picks-of-the-month/_/N-29Z8q8Z1qo8', 'https://www.barnesandnoble.com/b/books/_/N-1sZ29Z8q8;jsessionid=C85FEC340FAD59275A537E4027868A81.prodny_store01-atgap09', 'https://www.barnesandnoble.com/b/audiobooks/biography/_/N-2sgzZsoc', 'https://www.barnesandnoble.com/b/books/_/N-1z13w9sZ1sZ1z0spboZ29Z8q8;jsessionid=C85FEC340FAD59275A537E4027868A81.prodny_store01-atgap09', 'https://www.barnesandnoble.com/h/sitemap', 'https://www.barnesandnoble.com/b/up-to-30-off-the-biggest-books-pre-order-now/_/N-2vcj', 'https://www.barnesandnoble.com/s/%22Tracy+Wolff%27s+Crave+Series%22?Ntk=P_Series_Title&Ns=P_Series_Number&Ntx=mode+matchall', 'https://www.barnesandnoble.com/b/books/_/N-1z13w9sZ1sZ1z0zro8Z29Z8q8;jsessionid=C85FEC340FAD59275A537E4027868A81.prodny_store01-atgap09', 'https://www.barnesandnoble.com/b/diary-of-a-wimpy-kid/_/N-1pcc', 'https://www.barnesandnoble.com/s/%22%C2%BFQui%C3%A9n+fue%3F%22;jsessionid=C85FEC340FAD59275A537E4027868A81.prodny_store01-atgap09?Ntk=P_Series_Title&Ns=P_Series_Number&Ntx=mode+matchall', 'https://onetrust.com/poweredbyonetrust', 'https://www.barnesandnoble.com/b/books/sports/_/N-1z13w9sZ1sZ29Z8q8Z19id;jsessionid=B7FD3FF5FA81957BDC538EAD3E33D4EF.prodny_store02-atgap12', 'https://www.barnesandnoble.com/b/books/travel/_/N-1z13w9sZ1sZ29Z8q8Z1ary;jsessionid=C85FEC340FAD59275A537E4027868A81.prodny_store01-atgap09', 'https://www.barnesandnoble.com/b/movies-tv/animation/anime/_/N-8qhZ1eoo', 'https://www.barnesandnoble.com/b/books/reference/_/N-1z13w9sZ1sZ29Z8q8Z1g9w;jsessionid=B7FD3FF5FA81957BDC538EAD3E33D4EF.prodny_store02-atgap12', 'https://www.barnesandnoble.com/b/kate-spade-new-york/_/N-1qnz', 'https://www.barnesandnoble.com/b/stationery-gifts/greeting-cards/blank/_/N-8qgZ2veg', 'https://www.barnesandnoble.com/b/calendars/_/N-8rb', 'https://www.barnesandnoble.com/w/qui-n-es-michael-jordan-kirsten-anderson/1141319166;jsessionid=B7FD3FF5FA81957BDC538EAD3E33D4EF.prodny_store02-atgap12?ean=9780593522677', 'https://www.barnesandnoble.com/b/brands/leuchtturm1917/_/N-2sr1', 'https://www.barnesandnoble.com/b/godiva-chocolates/_/N-2ru7', 'https://www.barnesandnoble.com/b/literary-plush-books/_/N-2r19', 'https://www.barnesandnoble.com/b/books/psychology/_/N-29Z8q8Z1fcc', 'https://www.barnesandnoble.com/b/books/_/N-1z13w9sZ1sZ1z141wcZ29Z8q8;jsessionid=B7FD3FF5FA81957BDC538EAD3E33D4EF.prodny_store02-atgap12', 'https://www.barnesandnoble.com/h/corrections-updates', 'https://www.barnesandnoble.com/b/books/kids/_/N-1z13w9sZ1sZ29Z8q8Ztu1;jsessionid=B7FD3FF5FA81957BDC538EAD3E33D4EF.prodny_store02-atgap12', 'https://www.barnesandnoble.com/b/books/_/N-1z13w9sZ1sZ5Z29Z8q8;jsessionid=C85FEC340FAD59275A537E4027868A81.prodny_store01-atgap09', 'https://www.barnesandnoble.com/b/books/awards/_/N-1z13w9sZ1sZ29Z8q8Z1d6q;jsessionid=C85FEC340FAD59275A537E4027868A81.prodny_store01-atgap09', 'https://www.barnesandnoble.com/b/audiobooks/teens-ya/_/N-2sgzZ19r4', 'https://www.barnesandnoble.com/b/books/teens-ya/_/N-1fZ29Z8q8Z19r4', 'https://www.barnesandnoble.com/b/toys-games/strategy-games/_/N-8qfZ1hil', 'https://www.barnesandnoble.com/b/books/science-fiction-fantasy/_/N-1z13w9sZ1sZ29Z8q8Z180l;jsessionid=B7FD3FF5FA81957BDC538EAD3E33D4EF.prodny_store02-atgap12', 'https://www.barnesandnoble.com/b/books/_/N-1z13w9sZ1sZ1z13op7Z29Z8q8;jsessionid=B7FD3FF5FA81957BDC538EAD3E33D4EF.prodny_store02-atgap12', 'https://www.barnesandnoble.com/b/books/cookbooks-food-wine/_/N-1z13w9sZ1sZ29Z8q8Zy3b;jsessionid=B7FD3FF5FA81957BDC538EAD3E33D4EF.prodny_store02-atgap12', 'https://www.barnesandnoble.com/b/steam-stem-books-toys/_/N-2sgx', 'https://www.barnesandnoble.com/b/toys-games/toys/_/N-1fZ8qfZ2vxm', 'https://stores.barnesandnoble.com/', 'https://www.barnesandnoble.com/b/em-and-friends/_/N-2x1n', 'https://www.barnesandnoble.com/b/nook-devices/_/N-8ri', 'https://www.barnesandnoble.com/b/books/current-affairs-politics/_/N-29Z8q8Z16st', 'https://www.barnesandnoble.com/b/buy-one-get-one-50-off/ebooks-nook/_/N-2qukZ8qa', 'https://www.barnesandnoble.com/b/toys-games/dolls-stuffed-animals/_/N-8qfZ1hmi', 'https://www.barnesandnoble.com/b/books/science-technology/_/N-29Z8q8Z184l', 'https://www.barnesandnoble.com/s/%22Kirsten%20Anderson%22;jsessionid=C85FEC340FAD59275A537E4027868A81.prodny_store01-atgap09?Ntk=P_key_Contributor_List&Ns=P_Sales_Rank&Ntx=mode+matchall', 'https://www.barnesandnoble.com/b/books/graphic-novels-comics/_/N-1z13w9sZ1sZ29Z8q8Zucb;jsessionid=B7FD3FF5FA81957BDC538EAD3E33D4EF.prodny_store02-atgap12', 'https://www.barnesandnoble.com/b/books/history/_/N-1z13w9sZ1sZ29Z8q8Z11km;jsessionid=C85FEC340FAD59275A537E4027868A81.prodny_store01-atgap09', 'https://www.barnesandnoble.com/b/books/_/N-1z13w9sZ1sZ29Z8q8?&Ns=P_Sale_Price%7C0&page=1', 'https://www.barnesandnoble.com/b/booktok/_/N-2vdn', 'https://www.barnesandnoble.com/w/somewhere-we-are-human-donde-somos-humanos-reyna-grande/1140949437;jsessionid=C85FEC340FAD59275A537E4027868A81.prodny_store01-atgap09?ean=9780063095830', 'https://www.barnesandnoble.com/b/ebooks-nook/history/_/N-8qaZ11km', 'https://www.barnesandnoble.com/b/shop-the-sparknotes-collection/_/N-rqa', 'https://www.barnesandnoble.com/b/everyones-talking-about/fiction/historical-fiction/_/N-2tykZ1z0v0e6Z10nf', 'https://www.barnesandnoble.com/b/books/romance/_/N-1z13w9sZ1sZ29Z8q8Z17y3;jsessionid=B7FD3FF5FA81957BDC538EAD3E33D4EF.prodny_store02-atgap12', 'https://www.barnesandnoble.com/b/books/_/N-1z13w9sZ1sZ1z0v0e6Z29Z8q8;jsessionid=B7FD3FF5FA81957BDC538EAD3E33D4EF.prodny_store02-atgap12', 'https://www.barnesandnoble.com/b/music/_/N-1fZ8qi', 'https://www.barnesandnoble.com/s/%22Prince%20Harry,%20The%20Duke%20of%20Sussex%22;jsessionid=B7FD3FF5FA81957BDC538EAD3E33D4EF.prodny_store02-atgap12?Ntk=P_key_Contributor_List&Ns=P_Sales_Rank&Ntx=mode+matchall', 'https://www.barnesandnoble.com/b/stationery-gifts/christian-gifts/_/N-8qgZ2sjl', 'https://www.barnesandnoble.com/b/music-movies/_/N-2vmi', 'https://www.barnesandnoble.com/w/los-ciclos-del-alma-sharon-m-koenig/1108860972;jsessionid=C85FEC340FAD59275A537E4027868A81.prodny_store01-atgap09?ean=9788491118916', 'https://www.barnesandnoble.com/b/books/activity-game-books/_/N-1z13w9sZ1sZ29Z8q8Z1gj3;jsessionid=B7FD3FF5FA81957BDC538EAD3E33D4EF.prodny_store02-atgap12', 'https://www.barnesandnoble.com/b/chapter-books/_/N-2vjf', 'https://help.barnesandnoble.com/app/nook_support/list', 'https://www.barnesandnoble.com/b/music/childrens-music/_/N-8qiZ1dfk', 'https://www.barnesandnoble.com/b/books/teens-ya/teen-fiction/_/N-29Z8q8Z19zn', 'https://www.barnesandnoble.com/b/buy-one-get-one-free-image-comics/_/N-2xm2', 'https://www.barnesandnoble.com/b/books/social-sciences/womens-studies/_/N-29Z8q8Z191e', 'https://www.barnesandnoble.com/w/generaci-n-idiota-agustin-laje/1142549687;jsessionid=C85FEC340FAD59275A537E4027868A81.prodny_store01-atgap09?ean=9781400238569', 'https://www.barnesandnoble.com/b/books/_/N-1z13w9sZ1sZ1z13op7Z29Z8q8;jsessionid=C85FEC340FAD59275A537E4027868A81.prodny_store01-atgap09', 'https://www.barnesandnoble.com/s/Chloe%20Gong', 'https://www.barnesandnoble.com/b/dr-seuss/_/N-1p35', 'https://www.barnesandnoble.com/b/coming-soon/ebooks-nook/_/N-1oyfZ8qa', 'https://www.barnesandnoble.com/b/books/_/N-1z13w9sZ1sZ1z141tjZ29Z8q8;jsessionid=C85FEC340FAD59275A537E4027868A81.prodny_store01-atgap09', 'https://www.barnesandnoble.com/b/contributor/kerri-maniscalco/_/N-2wob', 'https://www.barnesandnoble.com/b/contributor/stephanie-garber/_/N-2wn9', 'https://www.barnesandnoble.com/b/books/current-affairs-politics/_/N-1z13w9sZ1sZ29Z8q8Z16st;jsessionid=B7FD3FF5FA81957BDC538EAD3E33D4EF.prodny_store02-atgap12', 'https://www.barnesandnoble.com/b/books/mystery-crime/_/N-1z13w9sZ1sZ29Z8q8Z16g4;jsessionid=B7FD3FF5FA81957BDC538EAD3E33D4EF.prodny_store02-atgap12', 'https://www.barnesandnoble.com/w/spare-prince-harry-the-duke-of-sussex/1142591422;jsessionid=B7FD3FF5FA81957BDC538EAD3E33D4EF.prodny_store02-atgap12?ean=9781644737651', 'https://www.barnesandnoble.com/b/books/poetry/_/N-1z13w9sZ1sZ29Z8q8Z1pqh;jsessionid=B7FD3FF5FA81957BDC538EAD3E33D4EF.prodny_store02-atgap12', 'https://www.barnesandnoble.com/h/help/about/barnesandnoble', 'https://www.barnesandnoble.com/b/books/graphic-novels-comics/_/N-1z13w9sZ1sZ29Z8q8Zucb;jsessionid=C85FEC340FAD59275A537E4027868A81.prodny_store01-atgap09', 'https://www.barnesandnoble.com/b/warriors-by-erin-hunter/_/N-2jt8', 'https://www.barnesandnoble.com/b/toys-games/characters/calico-critters/_/N-8qfZ2cig', 'https://www.barnesandnoble.com/b/books/history/_/N-29Z8q8Z11km', 'https://www.barnesandnoble.com/b/contributor/sandra-boynton/_/N-2we1', 'https://www.barnesandnoble.com/b/audiobooks/fiction/thrillers/_/N-2sgzZ1d3u', 'https://www.barnesandnoble.com/b/books/_/N-1z13w9sZ1sZ1z0zro8Z29Z8q8;jsessionid=B7FD3FF5FA81957BDC538EAD3E33D4EF.prodny_store02-atgap12', 'https://www.barnesandnoble.com/b/books/_/N-26Z29Z8q8', 'https://www.barnesandnoble.com/w/la-viajera-nocturna-the-night-travelers-armando-lucas-correa/1142014777;jsessionid=B7FD3FF5FA81957BDC538EAD3E33D4EF.prodny_store02-atgap12?ean=9781644736944', 'https://www.barnesandnoble.com/b/ebooks-under-5/_/N-1p5w', 'https://www.barnesandnoble.com/b/books/_/N-1z13w9sZ1sZ4Z29Z8q8;jsessionid=C85FEC340FAD59275A537E4027868A81.prodny_store01-atgap09', 'https://www.barnesandnoble.com/s/%22Agustin%20Laje%22;jsessionid=C85FEC340FAD59275A537E4027868A81.prodny_store01-atgap09?Ntk=P_key_Contributor_List&Ns=P_Sales_Rank&Ntx=mode+matchall', 'https://www.barnesandnoble.com/b/booktok/_/N-2vdn#', 'https://www.barnesandnoble.com/b/books/teen-fiction/thrillers-suspense-teen-fiction/_/N-29Z8q8Z2wwj', 'https://www.barnesandnoble.com/b/books/computers/_/N-1z13w9sZ1sZ29Z8q8Zug4;jsessionid=B7FD3FF5FA81957BDC538EAD3E33D4EF.prodny_store02-atgap12', 'https://www.barnesandnoble.com/b/stationery-gifts/desk-office-accessories/_/N-8qgZ1hew', 'https://www.barnesandnoble.com/b/books/sports/_/N-1z13w9sZ1sZ29Z8q8Z19id;jsessionid=C85FEC340FAD59275A537E4027868A81.prodny_store01-atgap09', 'https://www.barnesandnoble.com/b/celebrity-narrators/_/N-2web', 'https://www.barnesandnoble.com/b/books/mystery-crime/_/N-29Z8q8Z16g4', 'https://www.barnesandnoble.com/b/fiction/books/_/N-26Z2usxZ29Z8q8', 'https://www.barnesandnoble.com/b/audiobooks/romance/_/N-2sgzZ17y3', 'https://www.barnesandnoble.com/s/%22Dra.%20Daniela%20Owen%22;jsessionid=C85FEC340FAD59275A537E4027868A81.prodny_store01-atgap09?Ntk=P_key_Contributor_List&Ns=P_Sales_Rank&Ntx=mode+matchall', 'https://www.barnesandnoble.com/b/young-reader-classic-picks/_/N-2wq2', 'https://www.barnesandnoble.com/b/books/teen-fiction/fantasy-teen-fiction/_/N-29Z8q8Z1a12', 'https://www.barnesandnoble.com/b/books/_/N-1z13w9sZ1sZ1z0v0e6Z29Z8q8;jsessionid=C85FEC340FAD59275A537E4027868A81.prodny_store01-atgap09', 'https://www.barnesandnoble.com/b/black-voices/_/N-2uv2', 'https://www.barnesandnoble.com/b/books/religion/_/N-29Z8q8Z17d6', 'https://www.barnesandnoble.com/b/signed-books-at-bncom/fiction/_/N-rp2Z2usx', 'https://www.barnesandnoble.com/b/best-audiobooks-to-listen-to-while-youre-running/_/N-2w47', 'https://www.barnesandnoble.com/s/%22Dede%20Putra%22;jsessionid=B7FD3FF5FA81957BDC538EAD3E33D4EF.prodny_store02-atgap12?Ntk=P_key_Contributor_List&Ns=P_Sales_Rank&Ntx=mode+matchall', 'https://www.barnesandnoble.com/b/books/graphic-novels-comics/_/N-29Z8q8Zucb', 'https://www.barnesandnoble.com/b/barnes-noble-exclusives/_/N-2o2b', 'https://www.barnesandnoble.com/s/%22Sonia%20Gui%C3%B1ansaca%22;jsessionid=C85FEC340FAD59275A537E4027868A81.prodny_store01-atgap09?Ntk=P_key_Contributor_List&Ns=P_Sales_Rank&Ntx=mode+matchall', 'https://www.barnesandnoble.com/b/books/fiction-literature-kids/classics-for-children-kids-fiction/_/N-29Z8q8Ztyi', 'https://www.barnesandnoble.com/b/books/religion/_/N-1z13w9sZ1sZ29Z8q8Z17d6;jsessionid=B7FD3FF5FA81957BDC538EAD3E33D4EF.prodny_store02-atgap12', 'https://www.barnesandnoble.com/b/libros-en-espaol/_/N-1p6a', 'https://www.barnesandnoble.com/b/stationery-gifts/brands/knock-knock/_/N-8qgZ2cqb', 'https://www.barnesandnoble.com/b/series/inheritance-games-series/_/N-2wti', 'https://www.barnesandnoble.com/h/help/cookie-policy', 'https://www.barnesandnoble.com/b/ebooks-nook/science-fiction-fantasy/_/N-8qaZ180l', 'https://www.barnesandnoble.com/b/toys-games/toys-games-brands/ravensburger/_/N-8qfZ2cjl', 'https://www.barnesandnoble.com/b/best-audiobooks-to-listen-to-while-youre-cleaning/_/N-2w45', 'https://www.barnesandnoble.com/b/books/self-help-relationships/_/N-29Z8q8Z18ly', 'https://www.barnesandnoble.com/b/books/art-architecture-photography/_/N-1z13w9sZ1sZ29Z8q8Zs9i;jsessionid=C85FEC340FAD59275A537E4027868A81.prodny_store01-atgap09', 'https://www.barnesandnoble.com/b/books/fiction/_/N-1z13w9sZ1sZ29Z8q8Z10h8;jsessionid=C85FEC340FAD59275A537E4027868A81.prodny_store01-atgap09', 'https://www.barnesandnoble.com/b/books/science-technology/_/N-1z13w9sZ1sZ29Z8q8Z184l;jsessionid=C85FEC340FAD59275A537E4027868A81.prodny_store01-atgap09', 'https://www.barnesandnoble.com/b/contributor/colleen-hoover/_/N-2w8j;jsessionid=C85FEC340FAD59275A537E4027868A81.prodny_store01-atgap09', 'https://www.barnesandnoble.com/b/series/shadow-and-bone-series/_/N-2wtn', 'https://www.barnesandnoble.com/b/books/transportation/_/N-1z13w9sZ1sZ29Z8q8Z2e1z;jsessionid=B7FD3FF5FA81957BDC538EAD3E33D4EF.prodny_store02-atgap12', 'https://www.barnesandnoble.com/b/books/awards/_/N-1z13w9sZ1sZ29Z8q8Z1d6q;jsessionid=B7FD3FF5FA81957BDC538EAD3E33D4EF.prodny_store02-atgap12', 'https://www.barnesandnoble.com/b/movies-tv/comedy/_/N-8qhZ1ery', 'https://www.barnesandnoble.com/s/%22Tenoch%20Huerta%22;jsessionid=C85FEC340FAD59275A537E4027868A81.prodny_store01-atgap09?Ntk=P_key_Contributor_List&Ns=P_Sales_Rank&Ntx=mode+matchall', 'https://www.barnesandnoble.com/b/series/dog-man-series/_/N-2th6', 'https://www.barnesandnoble.com/b/wellness-self-care/_/N-2kyf', 'https://www.barnesandnoble.com/b/books/business/_/N-1z13w9sZ1sZ29Z8q8Zt82;jsessionid=B7FD3FF5FA81957BDC538EAD3E33D4EF.prodny_store02-atgap12', 'https://www.barnesandnoble.com/b/contributor/who-hq/_/N-2wnd', 'https://www.barnesandnoble.com/b/books/awards/barnes-noble-monthly-picks/_/N-1z0v0e6Z29Z8q8Z2uri', 'https://www.barnesandnoble.com/b/everyones-talking-about/social-sciences/_/N-2tykZ1z0v0e6Z18q3', 'https://www.barnesandnoble.com/b/books/activity-game-books/_/N-1z13w9sZ1sZ29Z8q8Z1gj3;jsessionid=C85FEC340FAD59275A537E4027868A81.prodny_store01-atgap09', 'https://www.barnesandnoble.com/b/audiobooks/fiction/_/N-2sgzZ10h8', 'https://www.barnesandnoble.com/b/barbie/_/N-1p78', 'https://www.barnesandnoble.comhttps//www.barnesandnoble.com/b/up-to-30-off-the-biggest-books-pre-order-now/_/N-2vcj', 'https://www.barnesandnoble.com/b/schleich/_/N-2utq']\n"
     ]
    }
   ],
   "source": [
    "url_list_clean = [*set(url_list1)]\n",
    "print(url_list_clean)"
   ]
  },
  {
   "cell_type": "code",
   "execution_count": 106,
   "metadata": {},
   "outputs": [],
   "source": [
    "# books start with this hyperlink - https://www.barnesandnoble.com/w/\n",
    "url_list_clean2 = []\n",
    "\n",
    "for line in (line for line in url_list_clean if line.startswith('https://www.barnesandnoble.com/w/')):\n",
    "    url_list_clean2.append(line)"
   ]
  },
  {
   "cell_type": "code",
   "execution_count": 107,
   "metadata": {},
   "outputs": [
    {
     "data": {
      "text/plain": [
       "42"
      ]
     },
     "execution_count": 107,
     "metadata": {},
     "output_type": "execute_result"
    }
   ],
   "source": [
    "len(url_list_clean2)"
   ]
  },
  {
   "cell_type": "code",
   "execution_count": 108,
   "metadata": {},
   "outputs": [],
   "source": [
    "url_list_clean3 = []\n",
    "\n",
    "for line in (line for line in url_list_clean2 if not line.startswith('https://www.barnesandnoble.com/w/nook')):\n",
    "    url_list_clean3.append(line)"
   ]
  },
  {
   "cell_type": "code",
   "execution_count": 109,
   "metadata": {},
   "outputs": [
    {
     "data": {
      "text/plain": [
       "41"
      ]
     },
     "execution_count": 109,
     "metadata": {},
     "output_type": "execute_result"
    }
   ],
   "source": [
    "len(url_list_clean3)"
   ]
  },
  {
   "cell_type": "code",
   "execution_count": 110,
   "metadata": {},
   "outputs": [
    {
     "data": {
      "text/plain": [
       "['https://www.barnesandnoble.com/w/todos-sienten-enojo-alguna-vez-dra-daniela-owen/1142791493;jsessionid=C85FEC340FAD59275A537E4027868A81.prodny_store01-atgap09?ean=9781957922737',\n",
       " 'https://www.barnesandnoble.com/w/la-disciplina-marcar-tu-destino-discipline-is-destiny-ryan-holiday/1142314566;jsessionid=B7FD3FF5FA81957BDC538EAD3E33D4EF.prodny_store02-atgap12?ean=9788417992675',\n",
       " 'https://www.barnesandnoble.com/w/todos-sienten-ansiedad-alguna-vez-dra-daniela-owen/1142788161;jsessionid=C85FEC340FAD59275A537E4027868A81.prodny_store01-atgap09?ean=9781957922751',\n",
       " 'https://www.barnesandnoble.com/w/todos-sienten-enojo-alguna-vez-dra-daniela-owen/1142791493;jsessionid=B7FD3FF5FA81957BDC538EAD3E33D4EF.prodny_store02-atgap12?ean=9781957922737',\n",
       " 'https://www.barnesandnoble.com/w/spare-prince-harry-the-duke-of-sussex/1142591422;jsessionid=C85FEC340FAD59275A537E4027868A81.prodny_store01-atgap09?ean=9781644737651',\n",
       " 'https://www.barnesandnoble.com/w/violeta-isabel-allende/1140493958;jsessionid=B7FD3FF5FA81957BDC538EAD3E33D4EF.prodny_store02-atgap12?ean=9781644736791',\n",
       " 'https://www.barnesandnoble.com/w/volver-a-empezar-it-starts-with-us-colleen-hoover/1142826131;jsessionid=B7FD3FF5FA81957BDC538EAD3E33D4EF.prodny_store02-atgap12?ean=9786070796746',\n",
       " 'https://www.barnesandnoble.com/w/los-ciclos-del-alma-sharon-m-koenig/1108860972;jsessionid=B7FD3FF5FA81957BDC538EAD3E33D4EF.prodny_store02-atgap12?ean=9788491118916',\n",
       " 'https://www.barnesandnoble.com/w/medianoche-adrienne-young/1142080135;jsessionid=C85FEC340FAD59275A537E4027868A81.prodny_store01-atgap09?ean=9788417854751',\n",
       " 'https://www.barnesandnoble.com/w/la-disciplina-marcar-tu-destino-discipline-is-destiny-ryan-holiday/1142314566;jsessionid=C85FEC340FAD59275A537E4027868A81.prodny_store01-atgap09?ean=9788417992675',\n",
       " 'https://www.barnesandnoble.com/w/generaci-n-idiota-agustin-laje/1142549687;jsessionid=B7FD3FF5FA81957BDC538EAD3E33D4EF.prodny_store02-atgap12?ean=9781400238569',\n",
       " 'https://www.barnesandnoble.com/w/medianoche-adrienne-young/1142080135;jsessionid=B7FD3FF5FA81957BDC538EAD3E33D4EF.prodny_store02-atgap12?ean=9788417854751',\n",
       " 'https://www.barnesandnoble.com/w/todos-sienten-triste-alguna-vez-dra-daniela-owen/1142788164;jsessionid=C85FEC340FAD59275A537E4027868A81.prodny_store01-atgap09?ean=9781957922775',\n",
       " 'https://www.barnesandnoble.com/w/volver-a-empezar-it-starts-with-us-colleen-hoover/1142826131;jsessionid=C85FEC340FAD59275A537E4027868A81.prodny_store01-atgap09?ean=9786070796746',\n",
       " 'https://www.barnesandnoble.com/w/orgullo-prieto-tenoch-huerta/1142453742;jsessionid=C85FEC340FAD59275A537E4027868A81.prodny_store01-atgap09?ean=9786073821049',\n",
       " 'https://www.barnesandnoble.com/w/twisted-1-twisted-love-ana-huang/1142282311;jsessionid=C85FEC340FAD59275A537E4027868A81.prodny_store01-atgap09?ean=9786070793677',\n",
       " 'https://www.barnesandnoble.com/w/vamos-a-la-estufa-con-janet-kushner-jauja-kushner-janet/1142518062;jsessionid=C85FEC340FAD59275A537E4027868A81.prodny_store01-atgap09?ean=9786072127920',\n",
       " 'https://www.barnesandnoble.com/w/libro-tibetano-de-la-vida-y-de-la-muerte-el-sogyal-rinpoche/1141953307;jsessionid=C85FEC340FAD59275A537E4027868A81.prodny_store01-atgap09?ean=9788417694203',\n",
       " 'https://www.barnesandnoble.com/w/qui-n-es-michael-jordan-kirsten-anderson/1141319166;jsessionid=C85FEC340FAD59275A537E4027868A81.prodny_store01-atgap09?ean=9780593522677',\n",
       " 'https://www.barnesandnoble.com/w/la-ultima-cuentista-donna-barba-higuera/1141251218;jsessionid=C85FEC340FAD59275A537E4027868A81.prodny_store01-atgap09?ean=9781646143023',\n",
       " 'https://www.barnesandnoble.com/w/twisted-1-twisted-love-ana-huang/1142282311;jsessionid=B7FD3FF5FA81957BDC538EAD3E33D4EF.prodny_store02-atgap12?ean=9786070793677',\n",
       " 'https://www.barnesandnoble.com/w/el-rey-del-cash-elena-ch-vez/1142447878;jsessionid=C85FEC340FAD59275A537E4027868A81.prodny_store01-atgap09?ean=9786073820653',\n",
       " 'https://www.barnesandnoble.com/w/todos-sienten-ansiedad-alguna-vez-dra-daniela-owen/1142788161;jsessionid=B7FD3FF5FA81957BDC538EAD3E33D4EF.prodny_store02-atgap12?ean=9781957922751',\n",
       " 'https://www.barnesandnoble.com/w/somewhere-we-are-human-donde-somos-humanos-reyna-grande/1140949437;jsessionid=B7FD3FF5FA81957BDC538EAD3E33D4EF.prodny_store02-atgap12?ean=9780063095830',\n",
       " 'https://www.barnesandnoble.com/w/libro-tibetano-de-la-vida-y-de-la-muerte-el-sogyal-rinpoche/1141953307;jsessionid=B7FD3FF5FA81957BDC538EAD3E33D4EF.prodny_store02-atgap12?ean=9788417694203',\n",
       " 'https://www.barnesandnoble.com/w/loveless-alice-oseman/1141665267;jsessionid=C85FEC340FAD59275A537E4027868A81.prodny_store01-atgap09?ean=9789877477993',\n",
       " 'https://www.barnesandnoble.com/w/loveless-alice-oseman/1141665267;jsessionid=B7FD3FF5FA81957BDC538EAD3E33D4EF.prodny_store02-atgap12?ean=9789877477993',\n",
       " 'https://www.barnesandnoble.com/w/el-rey-del-cash-elena-ch-vez/1142447878;jsessionid=B7FD3FF5FA81957BDC538EAD3E33D4EF.prodny_store02-atgap12?ean=9786073820653',\n",
       " 'https://www.barnesandnoble.com/w/vamos-a-la-estufa-con-janet-kushner-jauja-kushner-janet/1142518062;jsessionid=B7FD3FF5FA81957BDC538EAD3E33D4EF.prodny_store02-atgap12?ean=9786072127920',\n",
       " 'https://www.barnesandnoble.com/w/la-ultima-cuentista-donna-barba-higuera/1141251218;jsessionid=B7FD3FF5FA81957BDC538EAD3E33D4EF.prodny_store02-atgap12?ean=9781646143023',\n",
       " 'https://www.barnesandnoble.com/w/orgullo-prieto-tenoch-huerta/1142453742;jsessionid=B7FD3FF5FA81957BDC538EAD3E33D4EF.prodny_store02-atgap12?ean=9786073821049',\n",
       " 'https://www.barnesandnoble.com/w/la-viajera-nocturna-the-night-travelers-armando-lucas-correa/1142014777;jsessionid=C85FEC340FAD59275A537E4027868A81.prodny_store01-atgap09?ean=9781644736944',\n",
       " 'https://www.barnesandnoble.com/w/you-think-you-know-me-pink-tiger-games/1141669192?ean=0603784205212',\n",
       " 'https://www.barnesandnoble.com/w/todos-sienten-triste-alguna-vez-dra-daniela-owen/1142788164;jsessionid=B7FD3FF5FA81957BDC538EAD3E33D4EF.prodny_store02-atgap12?ean=9781957922775',\n",
       " 'https://www.barnesandnoble.com/w/violeta-isabel-allende/1140493958;jsessionid=C85FEC340FAD59275A537E4027868A81.prodny_store01-atgap09?ean=9781644736791',\n",
       " 'https://www.barnesandnoble.com/w/qui-n-es-michael-jordan-kirsten-anderson/1141319166;jsessionid=B7FD3FF5FA81957BDC538EAD3E33D4EF.prodny_store02-atgap12?ean=9780593522677',\n",
       " 'https://www.barnesandnoble.com/w/somewhere-we-are-human-donde-somos-humanos-reyna-grande/1140949437;jsessionid=C85FEC340FAD59275A537E4027868A81.prodny_store01-atgap09?ean=9780063095830',\n",
       " 'https://www.barnesandnoble.com/w/los-ciclos-del-alma-sharon-m-koenig/1108860972;jsessionid=C85FEC340FAD59275A537E4027868A81.prodny_store01-atgap09?ean=9788491118916',\n",
       " 'https://www.barnesandnoble.com/w/generaci-n-idiota-agustin-laje/1142549687;jsessionid=C85FEC340FAD59275A537E4027868A81.prodny_store01-atgap09?ean=9781400238569',\n",
       " 'https://www.barnesandnoble.com/w/spare-prince-harry-the-duke-of-sussex/1142591422;jsessionid=B7FD3FF5FA81957BDC538EAD3E33D4EF.prodny_store02-atgap12?ean=9781644737651',\n",
       " 'https://www.barnesandnoble.com/w/la-viajera-nocturna-the-night-travelers-armando-lucas-correa/1142014777;jsessionid=B7FD3FF5FA81957BDC538EAD3E33D4EF.prodny_store02-atgap12?ean=9781644736944']"
      ]
     },
     "execution_count": 110,
     "metadata": {},
     "output_type": "execute_result"
    }
   ],
   "source": [
    "url_list_clean3"
   ]
  },
  {
   "cell_type": "code",
   "execution_count": 133,
   "metadata": {},
   "outputs": [],
   "source": [
    "books = driver.find_elements(By.XPATH,'//div[@class=\"product-shelf-title product-info-title pt-xs\"]')"
   ]
  },
  {
   "cell_type": "code",
   "execution_count": 137,
   "metadata": {},
   "outputs": [],
   "source": [
    "book_list = []\n",
    "for b in range(len(books)):\n",
    "    book_list.append(books[b].text)"
   ]
  },
  {
   "cell_type": "code",
   "execution_count": 138,
   "metadata": {},
   "outputs": [
    {
     "data": {
      "text/plain": [
       "['Orgullo prieto',\n",
       " 'Spare: En la sombra',\n",
       " 'Generación idiota: Una crítica…',\n",
       " 'Volver a empezar / It Starts…',\n",
       " 'Violeta (Spanish Edition)…',\n",
       " 'Vamos a la Estufa con Janet…',\n",
       " 'El rey del cash: El saqueo…',\n",
       " 'La ultima cuentista',\n",
       " '¿Quién es Michael Jordan?',\n",
       " 'La disciplina marcará tu…',\n",
       " 'Somewhere We Are Human \\\\ Donde…',\n",
       " 'Todos Sienten Enojo Alguna Vez',\n",
       " 'Todos Sienten Ansiedad Alguna…',\n",
       " 'Los ciclos del alma (Signed…',\n",
       " 'Todos Sienten Triste Alguna…',\n",
       " 'Libro tibetano de la vida y de…',\n",
       " 'Twisted 1. Twisted love',\n",
       " 'Medianoche (Fable 2)',\n",
       " 'La viajera nocturna / The…',\n",
       " 'Loveless']"
      ]
     },
     "execution_count": 138,
     "metadata": {},
     "output_type": "execute_result"
    }
   ],
   "source": [
    "book_list"
   ]
  },
  {
   "cell_type": "code",
   "execution_count": 140,
   "metadata": {},
   "outputs": [],
   "source": [
    "authors = driver.find_elements(By.XPATH,'//div[@class=\"product-shelf-author pt-0 mt-1\"]')"
   ]
  },
  {
   "cell_type": "code",
   "execution_count": 142,
   "metadata": {},
   "outputs": [],
   "source": [
    "author_list = []\n",
    "for a in range(len(authors)):\n",
    "    author_list.append(authors[a].text)"
   ]
  },
  {
   "cell_type": "code",
   "execution_count": 143,
   "metadata": {},
   "outputs": [
    {
     "data": {
      "text/plain": [
       "['by Tenoch Huerta',\n",
       " 'by Prince Harry, The Duke of Sussex',\n",
       " 'by Agustin Laje',\n",
       " 'by Colleen Hoover',\n",
       " 'by Isabel Allende',\n",
       " 'by Kushner, Janet',\n",
       " 'by Elena Chávez, Anabel Hernández (Prologue by)',\n",
       " 'by Donna Barba Higuera, Aurora Humaran (Translator)',\n",
       " 'by Kirsten Anderson, Who HQ, ,',\n",
       " 'by Ryan Holiday',\n",
       " 'by Reyna Grande, Sonia Guiñansaca, ,',\n",
       " 'by Dra. Daniela Owen, Gülce Baycik (Illustrator)',\n",
       " 'by Dra. Daniela Owen, Gülce Baycik (Illustrator)',\n",
       " 'by Sharon M. Koenig',\n",
       " 'by Dra. Daniela Owen, Gülce Baycik (Illustrator)',\n",
       " 'by Sogyal Rinpoche',\n",
       " 'by Ana Huang',\n",
       " 'by Adrienne Young',\n",
       " 'by Armando Lucas Correa',\n",
       " 'by Alice Oseman']"
      ]
     },
     "execution_count": 143,
     "metadata": {},
     "output_type": "execute_result"
    }
   ],
   "source": [
    "author_list"
   ]
  },
  {
   "cell_type": "code",
   "execution_count": null,
   "metadata": {},
   "outputs": [],
   "source": []
  },
  {
   "cell_type": "code",
   "execution_count": null,
   "metadata": {},
   "outputs": [],
   "source": []
  },
  {
   "cell_type": "code",
   "execution_count": null,
   "metadata": {},
   "outputs": [],
   "source": []
  },
  {
   "cell_type": "code",
   "execution_count": null,
   "metadata": {},
   "outputs": [],
   "source": []
  },
  {
   "cell_type": "code",
   "execution_count": null,
   "metadata": {},
   "outputs": [],
   "source": []
  },
  {
   "cell_type": "code",
   "execution_count": null,
   "metadata": {},
   "outputs": [],
   "source": []
  },
  {
   "cell_type": "code",
   "execution_count": null,
   "metadata": {},
   "outputs": [],
   "source": []
  }
 ],
 "metadata": {
  "kernelspec": {
   "display_name": "Python 3.8.15 ('tf-env')",
   "language": "python",
   "name": "python3"
  },
  "language_info": {
   "codemirror_mode": {
    "name": "ipython",
    "version": 3
   },
   "file_extension": ".py",
   "mimetype": "text/x-python",
   "name": "python",
   "nbconvert_exporter": "python",
   "pygments_lexer": "ipython3",
   "version": "3.8.15"
  },
  "orig_nbformat": 4,
  "vscode": {
   "interpreter": {
    "hash": "a519badb918331f0d8c64ed18a42c37ad23f1f7898e2293b12d9d4e1cd8409d0"
   }
  }
 },
 "nbformat": 4,
 "nbformat_minor": 2
}
