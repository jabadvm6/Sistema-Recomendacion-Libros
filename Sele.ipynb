{
 "cells": [
  {
   "cell_type": "code",
   "execution_count": null,
   "metadata": {},
   "outputs": [],
   "source": [
    "from selenium import webdriver\n",
    "from selenium.webdriver.common.by import By\n",
    "from selenium.webdriver.common.keys import Keys\n",
    "from selenium.webdriver.common.action_chains import ActionChains\n",
    "\n",
    "import requests\n",
    "\n",
    "from bs4 import BeautifulSoup\n",
    "import time"
   ]
  },
  {
   "cell_type": "code",
   "execution_count": null,
   "metadata": {},
   "outputs": [],
   "source": [
    "# this is your base url\n",
    "url = \"https://www.barnesandnoble.com/b/books/_/N-1z13w9sZ1sZ29Z8q8?Nrpp=20&page=1\""
   ]
  },
  {
   "cell_type": "code",
   "execution_count": null,
   "metadata": {},
   "outputs": [],
   "source": [
    "# Chromedriver Path\n",
    "PATH = \"/Users/javm/Desktop/chromedriver_mac_arm64/chromedriver\"\n",
    "\n",
    "# this creates/opens Chrome browser\n",
    "driver = webdriver.Chrome(PATH)\n",
    "\n",
    "# instantiate ActionChains\n",
    "action = ActionChains(driver)\n",
    "\n",
    "# this opens desired url on browser\n",
    "driver.get(url)\n",
    "\n",
    "driver.implicitly_wait(20)"
   ]
  },
  {
   "cell_type": "code",
   "execution_count": null,
   "metadata": {},
   "outputs": [],
   "source": [
    "url_list = []"
   ]
  },
  {
   "cell_type": "code",
   "execution_count": null,
   "metadata": {},
   "outputs": [],
   "source": [
    "elems = driver.find_elements(By.TAG_NAME, 'a')\n"
   ]
  },
  {
   "cell_type": "code",
   "execution_count": null,
   "metadata": {},
   "outputs": [],
   "source": [
    "url_list1 = []\n",
    "for elem in elems:\n",
    "        href = elem.get_attribute('href')\n",
    "        if href is not None:\n",
    "            url_list1.append(href)"
   ]
  },
  {
   "cell_type": "code",
   "execution_count": null,
   "metadata": {},
   "outputs": [],
   "source": [
    "url_list_clean = [*set(url_list1)]\n",
    "print(url_list_clean)"
   ]
  },
  {
   "cell_type": "code",
   "execution_count": null,
   "metadata": {},
   "outputs": [],
   "source": [
    "# books start with this hyperlink - https://www.barnesandnoble.com/w/\n",
    "url_list_clean2 = []\n",
    "\n",
    "for line in (line for line in url_list_clean if line.startswith('https://www.barnesandnoble.com/w/')):\n",
    "    url_list_clean2.append(line)"
   ]
  },
  {
   "cell_type": "code",
   "execution_count": null,
   "metadata": {},
   "outputs": [],
   "source": [
    "len(url_list_clean2)"
   ]
  },
  {
   "cell_type": "code",
   "execution_count": null,
   "metadata": {},
   "outputs": [],
   "source": [
    "url_list_clean3 = []\n",
    "\n",
    "for line in (line for line in url_list_clean2 if not line.startswith('https://www.barnesandnoble.com/w/nook')):\n",
    "    url_list_clean3.append(line)"
   ]
  },
  {
   "cell_type": "code",
   "execution_count": null,
   "metadata": {},
   "outputs": [],
   "source": [
    "len(url_list_clean3)"
   ]
  },
  {
   "cell_type": "code",
   "execution_count": null,
   "metadata": {},
   "outputs": [],
   "source": [
    "books = driver.find_elements(By.XPATH,'//div[@class=\"product-shelf-title product-info-title pt-xs\"]')"
   ]
  },
  {
   "cell_type": "code",
   "execution_count": null,
   "metadata": {},
   "outputs": [],
   "source": [
    "book_list = []\n",
    "for b in range(len(books)):\n",
    "    book_list.append(books[b].text)"
   ]
  },
  {
   "cell_type": "code",
   "execution_count": null,
   "metadata": {},
   "outputs": [],
   "source": [
    "book_list"
   ]
  },
  {
   "cell_type": "code",
   "execution_count": null,
   "metadata": {},
   "outputs": [],
   "source": [
    "authors = driver.find_elements(By.XPATH,'//div[@class=\"product-shelf-author pt-0 mt-1\"]')"
   ]
  },
  {
   "cell_type": "code",
   "execution_count": null,
   "metadata": {},
   "outputs": [],
   "source": [
    "author_list = []\n",
    "for a in range(len(authors)):\n",
    "    author_list.append(authors[a].text)"
   ]
  },
  {
   "cell_type": "code",
   "execution_count": null,
   "metadata": {},
   "outputs": [],
   "source": [
    "len(author_list)"
   ]
  },
  {
   "cell_type": "code",
   "execution_count": null,
   "metadata": {},
   "outputs": [],
   "source": [
    "pages = driver.find_elements(By.LINK_TEXT ,'//a[@class=\"next-button\"]')"
   ]
  },
  {
   "cell_type": "code",
   "execution_count": null,
   "metadata": {},
   "outputs": [],
   "source": [
    "\n",
    "for url in url_list_clean3:\n",
    "    urls = \"'\"+url+\"'\"\n",
    "    driver.get(url)\n",
    "    requests.get(url)\n",
    "    \n",
    "\n",
    "    time.sleep(1)"
   ]
  },
  {
   "cell_type": "code",
   "execution_count": null,
   "metadata": {},
   "outputs": [],
   "source": [
    "# Chromedriver Path\n",
    "PATH = \"/Users/javm/Desktop/chromedriver_mac_arm64/chromedriver\"\n",
    "\n",
    "# this creates/opens Chrome browser\n",
    "driver = webdriver.Chrome(PATH)\n",
    "\n",
    "# instantiate url\n",
    "url = 'https://www.barnesandnoble.com/b/books/_/N-1z13w9sZ1sZ29Z8q8?Nrpp=20&page=1'\n",
    "\n",
    "# get url\n",
    "driver.get(url)\n",
    "\n",
    "# freeze/halt python so url loads completely\n",
    "driver.implicitly_wait(3)\n",
    "\n",
    "# identify elements with tagname <a>\n",
    "elements = driver.find_elements(By.TAG_NAME, \"a\")\n",
    "\n",
    "# find href links\n",
    "for element in elements:\n",
    "    if href.startswith('https://www.barnesandnoble.com/w/'):\n",
    "         href = element.get_attribute('href')\n",
    "         \n",
    "# clean hrefs\n",
    "# for href in hrefs:\n",
    "#     if hrefs.startswith('https://www.barnesandnoble.com/w/'):\n",
    "#         href = hrefs\n",
    "\n",
    "\n",
    "\n",
    "driver.quit()"
   ]
  },
  {
   "cell_type": "code",
   "execution_count": null,
   "metadata": {},
   "outputs": [],
   "source": [
    "type(href)"
   ]
  },
  {
   "cell_type": "code",
   "execution_count": null,
   "metadata": {},
   "outputs": [],
   "source": [
    "href"
   ]
  },
  {
   "cell_type": "code",
   "execution_count": null,
   "metadata": {},
   "outputs": [],
   "source": [
    "number = 0\n",
    "\n",
    "for number in range(10):\n",
    "    if number == 5:\n",
    "        continue    # continue here\n",
    "\n",
    "    print('Number is ' + str(number))\n",
    "\n",
    "print('Out of loop')"
   ]
  },
  {
   "cell_type": "code",
   "execution_count": null,
   "metadata": {},
   "outputs": [],
   "source": []
  },
  {
   "cell_type": "code",
   "execution_count": null,
   "metadata": {},
   "outputs": [],
   "source": []
  },
  {
   "cell_type": "code",
   "execution_count": null,
   "metadata": {},
   "outputs": [],
   "source": []
  },
  {
   "cell_type": "code",
   "execution_count": null,
   "metadata": {},
   "outputs": [],
   "source": []
  },
  {
   "cell_type": "code",
   "execution_count": null,
   "metadata": {},
   "outputs": [],
   "source": [
    "# Chromedriver Path\n",
    "PATH = \"/Users/javm/Desktop/chromedriver_mac_arm64/chromedriver\"\n",
    "\n",
    "# this creates/opens Chrome browser\n",
    "driver = webdriver.Chrome(PATH)\n",
    "\n",
    "# instantiate url\n",
    "url = 'https://www.barnesandnoble.com/b/books/_/N-1z13w9sZ1sZ29Z8q8?Nrpp=20&page=1'\n",
    "\n",
    "# get url\n",
    "driver.get(url)\n",
    "\n",
    "# freeze/halt python so url loads completely\n",
    "driver.implicitly_wait(20)\n",
    "\n",
    "# identify elements with tagname <a>\n",
    "lnks=driver.find_elements(By.TAG_NAME, \"a\")\n",
    "# traverse list\n",
    "for lnk in lnks:\n",
    "   # get_attribute() to get all href\n",
    "   lnk.find_element(By.LINK_TEXT, 'href')\n",
    "\n",
    "driver.quit()"
   ]
  },
  {
   "cell_type": "code",
   "execution_count": null,
   "metadata": {},
   "outputs": [],
   "source": []
  },
  {
   "cell_type": "code",
   "execution_count": null,
   "metadata": {},
   "outputs": [],
   "source": []
  },
  {
   "cell_type": "code",
   "execution_count": null,
   "metadata": {},
   "outputs": [],
   "source": []
  }
 ],
 "metadata": {
  "kernelspec": {
   "display_name": "Python 3.8.15 ('tf-env')",
   "language": "python",
   "name": "python3"
  },
  "language_info": {
   "codemirror_mode": {
    "name": "ipython",
    "version": 3
   },
   "file_extension": ".py",
   "mimetype": "text/x-python",
   "name": "python",
   "nbconvert_exporter": "python",
   "pygments_lexer": "ipython3",
   "version": "3.8.15"
  },
  "orig_nbformat": 4,
  "vscode": {
   "interpreter": {
    "hash": "a519badb918331f0d8c64ed18a42c37ad23f1f7898e2293b12d9d4e1cd8409d0"
   }
  }
 },
 "nbformat": 4,
 "nbformat_minor": 2
}
