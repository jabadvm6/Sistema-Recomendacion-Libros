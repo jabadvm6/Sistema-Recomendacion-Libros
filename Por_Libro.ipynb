{
 "cells": [
  {
   "cell_type": "code",
   "execution_count": 1,
   "metadata": {},
   "outputs": [],
   "source": [
    "from bs4 import BeautifulSoup\n",
    "import requests\n",
    "import smtplib #above and beyond lol\n",
    "import time\n",
    "import datetime"
   ]
  },
  {
   "cell_type": "code",
   "execution_count": 2,
   "metadata": {},
   "outputs": [],
   "source": [
    "URL = 'https://www.barnesandnoble.com/w/orgullo-prieto-tenoch-huerta/1142453742?ean=9786073821049'\n",
    "\n",
    "headers = {\"User-Agent\": \"Mozilla/5.0 (Macintosh; Intel Mac OS X 10_15_7) AppleWebKit/537.36 (KHTML, like Gecko) Chrome/109.0.0.0 Safari/537.36\", \"Accept-Encoding\":\"gzip, deflate\", \"Accept\":\"text/html,application/xhtml+xml,application/xml;q=0.9,*/*;q=0.8\", \"DNT\":\"1\",\"Connection\":\"close\", \"Upgrade-Insecure-Requests\":\"1\"}\n",
    "\n",
    "page = requests.get(URL, headers=headers)\n",
    "\n",
    "soup1 = BeautifulSoup(page.content, \"html.parser\")\n",
    "\n",
    "soup2 = BeautifulSoup(soup1.prettify(), \"html.parser\")"
   ]
  },
  {
   "cell_type": "code",
   "execution_count": 31,
   "metadata": {},
   "outputs": [
    {
     "name": "stdout",
     "output_type": "stream",
     "text": [
      "Orgullo prieto\n"
     ]
    }
   ],
   "source": [
    "titulo = soup2.find('h1', itemprop = \"name\").get_text().strip()\n",
    "print(titulo)"
   ]
  },
  {
   "cell_type": "code",
   "execution_count": 36,
   "metadata": {},
   "outputs": [
    {
     "name": "stdout",
     "output_type": "stream",
     "text": [
      "$18.95\n"
     ]
    }
   ],
   "source": [
    "precio = soup2.find('span' , id ='pdp-cur-price').get_text().strip()\n",
    "print(precio)"
   ]
  },
  {
   "cell_type": "code",
   "execution_count": 33,
   "metadata": {},
   "outputs": [
    {
     "name": "stdout",
     "output_type": "stream",
     "text": [
      "Tenoch Huerta                                       Tenoch Huerta\n"
     ]
    }
   ],
   "source": [
    "autor = soup2.find('span', class_ ='contributors pdp-book-author').get_text().replace('by', '').replace('\\n', '').strip()\n",
    "print(autor)"
   ]
  },
  {
   "cell_type": "code",
   "execution_count": 34,
   "metadata": {},
   "outputs": [
    {
     "name": "stdout",
     "output_type": "stream",
     "text": [
      "Notes From Your Bookseller                           El famoso actor mexicano, Tenoch Huerta, describe los obstáculos que ha enfrentado debido a los prejuicios a causa del color de su piel. Ahora que comparte papeles estelares en películas como                             Wakanda Forever                            , Huerta hace un análisis retrospectivo sobre el camino tortuoso que lo ha llevado al éxito en su carrera artística.                            The famous Mexican actor, Tenoch Huerta, describes the obstacles he has faced due to prejudices based on the color of his skin. Upon starring in big movie roles such as                             Wakanda Forever                            , Huerta looks back on the tortuous road that has led to success in his acting career.\n"
     ]
    }
   ],
   "source": [
    "resumen = soup2.find('div', class_ = \"book-seller-cntnt\").get_text().replace('\\n', '').strip()\n",
    "print(resumen)"
   ]
  },
  {
   "cell_type": "code",
   "execution_count": 30,
   "metadata": {},
   "outputs": [
    {
     "name": "stdout",
     "output_type": "stream",
     "text": [
      "Tenoch Huerta                                       Tenoch Huerta\n"
     ]
    }
   ],
   "source": [
    "print(autor)"
   ]
  },
  {
   "cell_type": "code",
   "execution_count": 37,
   "metadata": {},
   "outputs": [
    {
     "name": "stdout",
     "output_type": "stream",
     "text": [
      "\n",
      "Titulo: Orgullo prieto\n",
      "Autor: Tenoch Huerta                                       Tenoch Huerta\n",
      "Resumen: Notes From Your Bookseller                           El famoso actor mexicano, Tenoch Huerta, describe los obstáculos que ha enfrentado debido a los prejuicios a causa del color de su piel. Ahora que comparte papeles estelares en películas como                             Wakanda Forever                            , Huerta hace un análisis retrospectivo sobre el camino tortuoso que lo ha llevado al éxito en su carrera artística.                            The famous Mexican actor, Tenoch Huerta, describes the obstacles he has faced due to prejudices based on the color of his skin. Upon starring in big movie roles such as                             Wakanda Forever                            , Huerta looks back on the tortuous road that has led to success in his acting career.\n",
      "Precio: $18.95\n",
      "\n"
     ]
    }
   ],
   "source": [
    "print(f'''\n",
    "Titulo: {titulo}\n",
    "Autor: {autor}\n",
    "Resumen: {resumen}\n",
    "Precio: {precio}\n",
    "''')"
   ]
  },
  {
   "cell_type": "code",
   "execution_count": null,
   "metadata": {},
   "outputs": [],
   "source": []
  }
 ],
 "metadata": {
  "kernelspec": {
   "display_name": "Python 3.8.15 ('tf-env')",
   "language": "python",
   "name": "python3"
  },
  "language_info": {
   "codemirror_mode": {
    "name": "ipython",
    "version": 3
   },
   "file_extension": ".py",
   "mimetype": "text/x-python",
   "name": "python",
   "nbconvert_exporter": "python",
   "pygments_lexer": "ipython3",
   "version": "3.8.15"
  },
  "orig_nbformat": 4,
  "vscode": {
   "interpreter": {
    "hash": "a519badb918331f0d8c64ed18a42c37ad23f1f7898e2293b12d9d4e1cd8409d0"
   }
  }
 },
 "nbformat": 4,
 "nbformat_minor": 2
}
