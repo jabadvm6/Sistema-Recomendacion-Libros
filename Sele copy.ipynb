{
 "cells": [
  {
   "cell_type": "code",
   "execution_count": 1,
   "metadata": {},
   "outputs": [],
   "source": [
    "from selenium import webdriver\n",
    "from selenium.webdriver.common.by import By\n",
    "from selenium.webdriver.common.keys import Keys\n",
    "from selenium.webdriver.common.action_chains import ActionChains\n",
    "\n",
    "import requests\n",
    "\n",
    "from bs4 import BeautifulSoup\n",
    "import time"
   ]
  },
  {
   "cell_type": "code",
   "execution_count": 32,
   "metadata": {},
   "outputs": [
    {
     "name": "stderr",
     "output_type": "stream",
     "text": [
      "/var/folders/6g/zn0bw_6s1ws2qwbb44k4ppkw0000gn/T/ipykernel_97556/1936983767.py:7: DeprecationWarning: executable_path has been deprecated, please pass in a Service object\n",
      "  driver = webdriver.Chrome(PATH)\n"
     ]
    }
   ],
   "source": [
    "href_list = []\n",
    "\n",
    "# Chromedriver Path\n",
    "PATH = \"/Users/javm/Desktop/chromedriver_mac_arm64/chromedriver\"\n",
    "\n",
    "# this creates/opens Chrome browser\n",
    "driver = webdriver.Chrome(PATH)\n",
    "\n",
    "# instantiate url\n",
    "url = 'https://www.barnesandnoble.com/b/books/_/N-1z13w9sZ1sZ29Z8q8?Nrpp=20&page=1'\n",
    "\n",
    "# get url\n",
    "driver.get(url)\n",
    "\n",
    "# freeze/halt python so url loads completely\n",
    "driver.implicitly_wait(3)\n",
    "\n",
    "# identify elements with tagname <a>\n",
    "elements = driver.find_elements(By.TAG_NAME, \"a\")\n",
    "\n",
    "# find href links\n",
    "for element in elements:\n",
    "         hrefs = element.get_attribute('href')\n",
    "         \n",
    "# clean hrefs\n",
    "if hrefs.startswith('https://www.barnesandnoble.com/w/'):\n",
    "        href_list.append(hrefs)\n",
    "\n",
    "data_tuples = list(zip(title_list[0:],author_list[0:])) # list of each book titlep and author paired together\n",
    "    book_df = pd.DataFrame(data_tuples, columns=['Titulo','Autor']) # creates dataframe of each tuple in list\n",
    "    #book_df['Year'] = yr # adds season beginning year to each dataframe\n",
    "    df = df.append(book_df) # appends to master dataframe\n",
    "\n",
    "driver.quit()"
   ]
  },
  {
   "cell_type": "code",
   "execution_count": 33,
   "metadata": {},
   "outputs": [
    {
     "data": {
      "text/plain": [
       "938"
      ]
     },
     "execution_count": 33,
     "metadata": {},
     "output_type": "execute_result"
    }
   ],
   "source": [
    "len(elements)"
   ]
  },
  {
   "cell_type": "code",
   "execution_count": 34,
   "metadata": {},
   "outputs": [
    {
     "data": {
      "text/plain": [
       "'https://www.barnesandnoble.com/h/help/cookie-policy'"
      ]
     },
     "execution_count": 34,
     "metadata": {},
     "output_type": "execute_result"
    }
   ],
   "source": [
    "hrefs"
   ]
  },
  {
   "cell_type": "code",
   "execution_count": 35,
   "metadata": {},
   "outputs": [
    {
     "data": {
      "text/plain": [
       "[]"
      ]
     },
     "execution_count": 35,
     "metadata": {},
     "output_type": "execute_result"
    }
   ],
   "source": [
    "href_list"
   ]
  },
  {
   "cell_type": "code",
   "execution_count": null,
   "metadata": {},
   "outputs": [],
   "source": [
    "]"
   ]
  },
  {
   "cell_type": "code",
   "execution_count": null,
   "metadata": {},
   "outputs": [],
   "source": []
  },
  {
   "cell_type": "code",
   "execution_count": null,
   "metadata": {},
   "outputs": [],
   "source": []
  },
  {
   "cell_type": "code",
   "execution_count": null,
   "metadata": {},
   "outputs": [],
   "source": []
  },
  {
   "cell_type": "code",
   "execution_count": null,
   "metadata": {},
   "outputs": [],
   "source": []
  },
  {
   "cell_type": "code",
   "execution_count": null,
   "metadata": {},
   "outputs": [],
   "source": []
  }
 ],
 "metadata": {
  "kernelspec": {
   "display_name": "Python 3.8.15 ('tf-env')",
   "language": "python",
   "name": "python3"
  },
  "language_info": {
   "codemirror_mode": {
    "name": "ipython",
    "version": 3
   },
   "file_extension": ".py",
   "mimetype": "text/x-python",
   "name": "python",
   "nbconvert_exporter": "python",
   "pygments_lexer": "ipython3",
   "version": "3.8.15"
  },
  "orig_nbformat": 4,
  "vscode": {
   "interpreter": {
    "hash": "a519badb918331f0d8c64ed18a42c37ad23f1f7898e2293b12d9d4e1cd8409d0"
   }
  }
 },
 "nbformat": 4,
 "nbformat_minor": 2
}
